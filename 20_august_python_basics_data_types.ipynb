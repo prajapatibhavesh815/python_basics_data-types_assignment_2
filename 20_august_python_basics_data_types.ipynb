{
 "cells": [
  {
   "cell_type": "markdown",
   "id": "35716c78-51ce-4686-aac1-63c815eb7b8d",
   "metadata": {},
   "source": [
    "                  String Based Assignment Problem"
   ]
  },
  {
   "cell_type": "code",
   "execution_count": 14,
   "id": "ec279e00-94b5-4116-a728-7fdb163e43f4",
   "metadata": {},
   "outputs": [
    {
     "name": "stdin",
     "output_type": "stream",
     "text": [
      "enter sentence: congratulation\n"
     ]
    }
   ],
   "source": [
    "input_string =input(\"enter sentence:\")"
   ]
  },
  {
   "cell_type": "code",
   "execution_count": 15,
   "id": "25e9a0bc-4b79-40ee-9f29-8a8db4b0c902",
   "metadata": {},
   "outputs": [],
   "source": [
    "reversed_string = input_string[::-1]"
   ]
  },
  {
   "cell_type": "code",
   "execution_count": 16,
   "id": "340b40de-ab79-4787-ac9f-1bf6de7755fa",
   "metadata": {},
   "outputs": [
    {
     "name": "stdout",
     "output_type": "stream",
     "text": [
      "reversed_string: noitalutargnoc\n"
     ]
    }
   ],
   "source": [
    "print(\"reversed_string:\" ,reversed_string,)"
   ]
  },
  {
   "cell_type": "markdown",
   "id": "ccad9d2d-cf35-4ac6-98cb-9249370b31b1",
   "metadata": {},
   "source": [
    "   2. Check if a string is a palindrome ."
   ]
  },
  {
   "cell_type": "code",
   "execution_count": 53,
   "id": "efc507ea-e69d-4700-8102-006aa765ac5b",
   "metadata": {},
   "outputs": [
    {
     "name": "stdin",
     "output_type": "stream",
     "text": [
      "enter string: garden\n"
     ]
    }
   ],
   "source": [
    "input_string = input(\"enter string:\")"
   ]
  },
  {
   "cell_type": "code",
   "execution_count": 54,
   "id": "da6a3ee7-62a7-409d-b386-ded4e8f6a2d5",
   "metadata": {},
   "outputs": [],
   "source": [
    "cleaned_string = input_string"
   ]
  },
  {
   "cell_type": "code",
   "execution_count": 55,
   "id": "f4e7e82e-def8-4318-a53b-3124daff1b1e",
   "metadata": {},
   "outputs": [],
   "source": [
    "reversed_string = cleaned_string[::-1]"
   ]
  },
  {
   "cell_type": "code",
   "execution_count": 56,
   "id": "e8b44376-9c4b-49d5-8790-7f9b9b136179",
   "metadata": {},
   "outputs": [],
   "source": [
    "if cleaned_string == reversed_string: print(\"The input string is a palindrome.\")"
   ]
  },
  {
   "cell_type": "code",
   "execution_count": 57,
   "id": "d111179d-5c64-4338-b2d1-e18ee3e5b9d0",
   "metadata": {},
   "outputs": [
    {
     "name": "stdout",
     "output_type": "stream",
     "text": [
      "The input string is not a palindrome.\n"
     ]
    }
   ],
   "source": [
    "print(\"The input string is not a palindrome.\")"
   ]
  },
  {
   "cell_type": "markdown",
   "id": "463ff1e6-d3c0-4009-aee0-c53435407cf2",
   "metadata": {},
   "source": [
    "3. Convert a string to uppercase."
   ]
  },
  {
   "cell_type": "code",
   "execution_count": 59,
   "id": "ccbf7742-8217-47c8-858c-1e22fbf8ca6e",
   "metadata": {},
   "outputs": [
    {
     "name": "stdin",
     "output_type": "stream",
     "text": [
      "enter string: what do you mean\n"
     ]
    }
   ],
   "source": [
    "input_string = input(\"enter string:\")"
   ]
  },
  {
   "cell_type": "code",
   "execution_count": 60,
   "id": "63113711-734b-44f8-ad48-3828f1c14c05",
   "metadata": {},
   "outputs": [],
   "source": [
    "uppercase_string = input_string.upper()"
   ]
  },
  {
   "cell_type": "code",
   "execution_count": 61,
   "id": "e13d35e3-4a61-4714-823d-665a752ae779",
   "metadata": {},
   "outputs": [
    {
     "name": "stdout",
     "output_type": "stream",
     "text": [
      "uppercase_string: WHAT DO YOU MEAN\n"
     ]
    }
   ],
   "source": [
    "print(\"uppercase_string:\",uppercase_string)"
   ]
  },
  {
   "cell_type": "markdown",
   "id": "82fcaeb0-4b82-436e-acaf-f2702e5df754",
   "metadata": {},
   "source": [
    "4. Convert a string to lowercase."
   ]
  },
  {
   "cell_type": "code",
   "execution_count": 62,
   "id": "b662ddd7-c33a-4999-ae47-464f41dab9d0",
   "metadata": {},
   "outputs": [
    {
     "name": "stdin",
     "output_type": "stream",
     "text": [
      "enter string: WHAT DO YOU MEAN\n"
     ]
    }
   ],
   "source": [
    "input_string = input(\"enter string:\")"
   ]
  },
  {
   "cell_type": "code",
   "execution_count": 63,
   "id": "19154220-90ee-49dd-8512-c1990e304129",
   "metadata": {},
   "outputs": [],
   "source": [
    "lowercase_string = input_string.lower()"
   ]
  },
  {
   "cell_type": "code",
   "execution_count": 64,
   "id": "d976c983-a96d-453d-9e44-91436dd79f10",
   "metadata": {},
   "outputs": [
    {
     "name": "stdout",
     "output_type": "stream",
     "text": [
      "lowercase_string: what do you mean\n"
     ]
    }
   ],
   "source": [
    "print(\"lowercase_string:\",lowercase_string)"
   ]
  },
  {
   "cell_type": "markdown",
   "id": "a513dda4-8bcb-488b-a4d8-663447caf5a9",
   "metadata": {},
   "source": [
    "  5. Count the number of vowels in a string."
   ]
  },
  {
   "cell_type": "code",
   "execution_count": 90,
   "id": "445256fb-cb9d-4c63-907a-4e76b26dd044",
   "metadata": {},
   "outputs": [
    {
     "name": "stdin",
     "output_type": "stream",
     "text": [
      "enter sentence: vismaya\n"
     ]
    }
   ],
   "source": [
    "sentence = input(\"enter sentence:\")"
   ]
  },
  {
   "cell_type": "code",
   "execution_count": 91,
   "id": "bd5608e2-1069-40e8-b6ac-021e526e4da7",
   "metadata": {},
   "outputs": [],
   "source": [
    "vowel_count =0"
   ]
  },
  {
   "cell_type": "code",
   "execution_count": 92,
   "id": "6e8f2e1e-45bd-496a-b90c-2e5cc0933a51",
   "metadata": {},
   "outputs": [],
   "source": [
    "for char in sentence:\n",
    "    char_lower = char.lower()\n",
    "    if char_lower in \"aeiou\":\n",
    "        vowel_count += 1"
   ]
  },
  {
   "cell_type": "code",
   "execution_count": 93,
   "id": "1bcdd757-d2cb-42ad-8858-8e822f128d4e",
   "metadata": {},
   "outputs": [
    {
     "name": "stdout",
     "output_type": "stream",
     "text": [
      "Number of vowels: 3\n"
     ]
    }
   ],
   "source": [
    "print(\"Number of vowels:\", vowel_count)"
   ]
  },
  {
   "cell_type": "code",
   "execution_count": 136,
   "id": "61f3e2f8-3443-422e-841e-d336d5f5bd51",
   "metadata": {},
   "outputs": [
    {
     "name": "stdin",
     "output_type": "stream",
     "text": [
      "Enter a string:  bhavesh\n"
     ]
    },
    {
     "name": "stdout",
     "output_type": "stream",
     "text": [
      "Number of consonants: 5\n"
     ]
    }
   ],
   "source": [
    "def count_consonants(string):\n",
    "    consonant_count = 0\n",
    "    consonants = \"bcdfghjklmnpqrstvwxyzBCDEGHJKLMNPQRSTVWXY\"\n",
    "    for char in string:\n",
    "        if char in consonants:\n",
    "            consonant_count += 1\n",
    "    return consonant_count\n",
    "\n",
    "input_string = input(\"Enter a string: \")\n",
    "result = count_consonants(input_string)\n",
    "print(\"Number of consonants:\", result)"
   ]
  },
  {
   "cell_type": "markdown",
   "id": "88f7197a-867f-4104-b702-32d6a6e6c3c1",
   "metadata": {},
   "source": [
    "7. Remove all whitespaces from a string."
   ]
  },
  {
   "cell_type": "code",
   "execution_count": 15,
   "id": "2350a3be-a083-46d8-98c6-782b9f250c2e",
   "metadata": {},
   "outputs": [
    {
     "name": "stdout",
     "output_type": "stream",
     "text": [
      "helloworld!whatisthis?\n"
     ]
    }
   ],
   "source": [
    "def remove_whitespace(input_string):\n",
    "    result = \"\"\n",
    "\n",
    "    for char in input_string:\n",
    "        if char != \" \":\n",
    "            result += char\n",
    "\n",
    "    return result\n",
    "\n",
    "input_string =\"hello world ! what is this?\"\n",
    "output_string = remove_whitespace(input_string)\n",
    "print(output_string)"
   ]
  },
  {
   "cell_type": "markdown",
   "id": "b067d578-cd3b-4f2d-8b78-a1e18d5bbd0c",
   "metadata": {},
   "source": [
    "8. Find the length of a string without using the `len()` function."
   ]
  },
  {
   "cell_type": "code",
   "execution_count": 50,
   "id": "42a2816c-6c57-4544-a7c9-4b476b1615d2",
   "metadata": {},
   "outputs": [],
   "source": [
    "count = 0"
   ]
  },
  {
   "cell_type": "code",
   "execution_count": 51,
   "id": "96f920fb-68c0-459a-a77c-c2a676426d7e",
   "metadata": {},
   "outputs": [],
   "source": [
    "for char in input_string:\n",
    "    count += 1"
   ]
  },
  {
   "cell_type": "code",
   "execution_count": 52,
   "id": "5686aaba-f99c-48c2-b4db-5b00ef409e29",
   "metadata": {
    "tags": []
   },
   "outputs": [
    {
     "name": "stdout",
     "output_type": "stream",
     "text": [
      "The length of the string is: 27\n"
     ]
    }
   ],
   "source": [
    "print(\"The length of the string is:\", count)"
   ]
  },
  {
   "cell_type": "markdown",
   "id": "82e16d32-84ac-42ca-839c-6090d2a18aa3",
   "metadata": {},
   "source": [
    "9. Check if a string contains a specific word."
   ]
  },
  {
   "cell_type": "code",
   "execution_count": 10,
   "id": "f1f5dcae-9ec7-45bf-89b1-9489bfa66c9a",
   "metadata": {},
   "outputs": [
    {
     "name": "stdin",
     "output_type": "stream",
     "text": [
      "enter a string: my name is bhavesh\n"
     ]
    }
   ],
   "source": [
    "input_string = input(\"enter a string:\")"
   ]
  },
  {
   "cell_type": "code",
   "execution_count": 11,
   "id": "29e968f1-ed2b-4bd8-89f2-b66fabbf06ed",
   "metadata": {},
   "outputs": [
    {
     "name": "stdin",
     "output_type": "stream",
     "text": [
      "enter a specific word to check for: vsd\n"
     ]
    }
   ],
   "source": [
    "specific_word = input(\"enter a specific word to check for:\")"
   ]
  },
  {
   "cell_type": "code",
   "execution_count": 14,
   "id": "b709cd9f-0044-4abe-b8c7-4367fabd5723",
   "metadata": {},
   "outputs": [],
   "source": [
    "if specific_word in input_string:\n",
    "    print(f\"the string contains the word'{specific_word}'.\")"
   ]
  },
  {
   "cell_type": "code",
   "execution_count": 15,
   "id": "8ef14894-d75a-4101-a568-65fd9de6b024",
   "metadata": {},
   "outputs": [
    {
     "name": "stdout",
     "output_type": "stream",
     "text": [
      "the string not contains the word'vsd'.\n"
     ]
    }
   ],
   "source": [
    "#else\n",
    "print(f\"the string not contains the word'{specific_word}'.\")"
   ]
  },
  {
   "cell_type": "markdown",
   "id": "cf5c40df-efd3-4267-9db3-1bf8c11e3186",
   "metadata": {},
   "source": [
    "10. Replace a word in a string with another word."
   ]
  },
  {
   "cell_type": "code",
   "execution_count": 22,
   "id": "0f0df41e-17a4-4d71-a991-1020bcc6ce62",
   "metadata": {},
   "outputs": [
    {
     "name": "stdin",
     "output_type": "stream",
     "text": [
      "enter a string: hello world\n"
     ]
    }
   ],
   "source": [
    "input_string = input(\"enter a string:\")"
   ]
  },
  {
   "cell_type": "code",
   "execution_count": 23,
   "id": "ec76f627-30f9-44a3-b24b-2406e3b0bf19",
   "metadata": {},
   "outputs": [
    {
     "name": "stdin",
     "output_type": "stream",
     "text": [
      "enter the word to be replaced: world\n"
     ]
    }
   ],
   "source": [
    "old_word = input(\"enter the word to be replaced:\")"
   ]
  },
  {
   "cell_type": "code",
   "execution_count": 24,
   "id": "87af6dba-6a3e-4e41-aa4c-b69eb82fa1d3",
   "metadata": {},
   "outputs": [
    {
     "name": "stdin",
     "output_type": "stream",
     "text": [
      "enter the word to be replaced: student\n"
     ]
    }
   ],
   "source": [
    "new_word = input(\"enter the word to be replaced:\")"
   ]
  },
  {
   "cell_type": "code",
   "execution_count": 25,
   "id": "0c82debe-b36c-43f8-a739-9f0643b27d0c",
   "metadata": {},
   "outputs": [],
   "source": [
    "modified_string = input_string.replace(old_word,new_word)"
   ]
  },
  {
   "cell_type": "code",
   "execution_count": 26,
   "id": "c45d9d9f-9552-4d70-bac6-cd410daad21c",
   "metadata": {},
   "outputs": [
    {
     "name": "stdout",
     "output_type": "stream",
     "text": [
      "modified_string: hello student\n"
     ]
    }
   ],
   "source": [
    "print(\"modified_string:\",modified_string)"
   ]
  },
  {
   "cell_type": "markdown",
   "id": "41f835c2-7789-40ef-b7e3-50355c04908a",
   "metadata": {},
   "source": [
    "11. Count the occurrences of a word in a string."
   ]
  },
  {
   "cell_type": "code",
   "execution_count": 35,
   "id": "305c5600-430f-4811-b3ea-0dd222153dc8",
   "metadata": {},
   "outputs": [
    {
     "name": "stdout",
     "output_type": "stream",
     "text": [
      "The word 'sample' appears 1 times in the input string.\n"
     ]
    }
   ],
   "source": [
    "def count_word_occurrences(input_string, target_word):\n",
    "    word_count = 0\n",
    "\n",
    "    words = input_string.split()\n",
    "\n",
    "    for word in words:\n",
    "    \n",
    "        if word == target_word:\n",
    "        \n",
    "            word_count += 1\n",
    "\n",
    "    return word_count\n",
    "\n",
    "input_string = \"This is a sample sentence. This sentence contains the word 'sample' multiple times.\"\n",
    "\n",
    "target_word = \"sample\"\n",
    "\n",
    "result = count_word_occurrences(input_string, target_word)\n",
    "print(f\"The word '{target_word}' appears {result} times in the input string.\")"
   ]
  },
  {
   "cell_type": "markdown",
   "id": "b3ce6f1c-1e51-42a6-8d6b-8571e2b81eb5",
   "metadata": {},
   "source": [
    "12. Find the first occurrence of a word in a string."
   ]
  },
  {
   "cell_type": "code",
   "execution_count": 51,
   "id": "52f6ebc2-be64-42f1-a187-8944511362d6",
   "metadata": {},
   "outputs": [
    {
     "name": "stdout",
     "output_type": "stream",
     "text": [
      "Index of the first occurrence: 11\n"
     ]
    }
   ],
   "source": [
    "def find_first_occurrence(text, word):\n",
    "    \n",
    "    index = text.find(word)\n",
    "\n",
    "    if index == -1:\n",
    "        return None  \n",
    "\n",
    "    return index\n",
    "\n",
    "text = \"This is an example sentence. This sentence contains the word example.\"\n",
    "word = \"example\"\n",
    "result = find_first_occurrence(text, word)\n",
    "print(\"Index of the first occurrence:\", result)"
   ]
  },
  {
   "cell_type": "markdown",
   "id": "dac62a13-a344-4b6c-904e-6aaac082c55a",
   "metadata": {},
   "source": [
    "13. Find the last occurrence of a word in a string."
   ]
  },
  {
   "cell_type": "code",
   "execution_count": 49,
   "id": "15ab41e5-4052-4b32-a7ca-bd8038ce9fca",
   "metadata": {},
   "outputs": [
    {
     "name": "stdout",
     "output_type": "stream",
     "text": [
      "Index of the last occurrence: 66\n"
     ]
    }
   ],
   "source": [
    "def find_last_occurrence(text, word):\n",
    "    \n",
    "    index = text.rfind(word)\n",
    "\n",
    "    if index == -1:\n",
    "        return None  \n",
    "\n",
    "    return index\n",
    "\n",
    "text = \"This is an example sentence. This sentence also contains the word example.\"\n",
    "word = \"example\"\n",
    "result = find_last_occurrence(text, word)\n",
    "print(\"Index of the last occurrence:\", result)"
   ]
  },
  {
   "cell_type": "markdown",
   "id": "7e9741c0-b569-436d-a585-477a55284460",
   "metadata": {},
   "source": [
    "14. Split a string into a list of words"
   ]
  },
  {
   "cell_type": "code",
   "execution_count": 50,
   "id": "85a4da88-c72c-45a5-b17a-6663ed208b86",
   "metadata": {},
   "outputs": [
    {
     "name": "stdout",
     "output_type": "stream",
     "text": [
      "List of words: ['This', 'is', 'an', 'example', 'sentence.']\n"
     ]
    }
   ],
   "source": [
    "def split_string_into_words(text):\n",
    "\n",
    "    words_list = text.split()\n",
    "\n",
    "    return words_list\n",
    "\n",
    "text = \"This is an example sentence.\"\n",
    "words = split_string_into_words(text)\n",
    "print(\"List of words:\", words)"
   ]
  },
  {
   "cell_type": "markdown",
   "id": "456a3a9f-da2e-4355-830c-de7d444a2a4e",
   "metadata": {},
   "source": [
    "15. Join a list of words into a string."
   ]
  },
  {
   "cell_type": "code",
   "execution_count": 52,
   "id": "d1e65f05-baa0-4578-b5c9-df60961eece0",
   "metadata": {},
   "outputs": [
    {
     "name": "stdout",
     "output_type": "stream",
     "text": [
      "Joined string: This is an example sentence.\n"
     ]
    }
   ],
   "source": [
    "def join_words_into_string(words_list):\n",
    "    # Step 1: Use the join() method to join the words in the list into a single string.\n",
    "    joined_string = ' '.join(words_list)\n",
    "\n",
    "    # Step 2: Return the joined string.\n",
    "    return joined_string\n",
    "\n",
    "# Example usage\n",
    "words = [\"This\", \"is\", \"an\", \"example\", \"sentence.\"]\n",
    "text = join_words_into_string(words)\n",
    "print(\"Joined string:\", text)"
   ]
  },
  {
   "cell_type": "markdown",
   "id": "34567374-a025-48f6-9eb2-21042db0972f",
   "metadata": {},
   "source": [
    "16. Convert a string where words are separated by spaces to one where words\n",
    "are separated by underscores."
   ]
  },
  {
   "cell_type": "code",
   "execution_count": 53,
   "id": "3a4e13e6-4d72-458f-99ee-0786e21ae329",
   "metadata": {},
   "outputs": [
    {
     "name": "stdout",
     "output_type": "stream",
     "text": [
      "Converted text: This_is_an_example_sentence.\n"
     ]
    }
   ],
   "source": [
    "def convert_to_underscore_separated(text):\n",
    "    # Step 1: Use the replace() method to replace spaces with underscores.\n",
    "    underscore_separated = text.replace(\" \", \"_\")\n",
    "\n",
    "    # Step 2: Return the converted string.\n",
    "    return underscore_separated\n",
    "\n",
    "# Example usage\n",
    "text = \"This is an example sentence.\"\n",
    "converted_text = convert_to_underscore_separated(text)\n",
    "print(\"Converted text:\", converted_text)"
   ]
  },
  {
   "cell_type": "markdown",
   "id": "6dee4452-27bf-446c-8f4a-f5a0f48cedce",
   "metadata": {},
   "source": [
    "17. Check if a string starts with a specific word or phrase."
   ]
  },
  {
   "cell_type": "code",
   "execution_count": 54,
   "id": "7472a1bc-eadd-40f0-bf5c-e664694c6b22",
   "metadata": {},
   "outputs": [
    {
     "name": "stdout",
     "output_type": "stream",
     "text": [
      "The text starts with the prefix.\n"
     ]
    }
   ],
   "source": [
    "def starts_with(text, prefix):\n",
    "    # Step 1: Use the startswith() method to check if the text starts with the specified prefix.\n",
    "    is_start = text.startswith(prefix)\n",
    "\n",
    "    # Step 2: Return the result of the check.\n",
    "    return is_start\n",
    "\n",
    "# Example usage\n",
    "text = \"Hello, world!\"\n",
    "prefix = \"Hello\"\n",
    "result = starts_with(text, prefix)\n",
    "if result:\n",
    "    print(\"The text starts with the prefix.\")\n",
    "else:\n",
    "    print(\"The text does not start with the prefix.\")"
   ]
  },
  {
   "cell_type": "markdown",
   "id": "cc3f1cbb-8571-44d8-8af8-14cae702a52c",
   "metadata": {},
   "source": [
    "18. Check if a string ends with a specific word or phrase."
   ]
  },
  {
   "cell_type": "code",
   "execution_count": 55,
   "id": "24c73f0f-9bc5-47cc-8e64-d40dd1ce4aac",
   "metadata": {},
   "outputs": [
    {
     "name": "stdout",
     "output_type": "stream",
     "text": [
      "The text ends with the suffix.\n"
     ]
    }
   ],
   "source": [
    "def ends_with(text, suffix):\n",
    "    # Step 1: Use the endswith() method to check if the text ends with the specified suffix.\n",
    "    is_end = text.endswith(suffix)\n",
    "\n",
    "    # Step 2: Return the result of the check.\n",
    "    return is_end\n",
    "\n",
    "# Example usage\n",
    "text = \"Hello, world!\"\n",
    "suffix = \"world!\"\n",
    "result = ends_with(text, suffix)\n",
    "if result:\n",
    "    print(\"The text ends with the suffix.\")\n",
    "else:\n",
    "    print(\"The text does not end with the suffix.\")"
   ]
  },
  {
   "cell_type": "markdown",
   "id": "85c9694d-30f5-4e9d-b1b9-1f31804e7787",
   "metadata": {},
   "source": [
    "19. Convert a string to title case (e.g., \"hello world\" to \"Hello World\")."
   ]
  },
  {
   "cell_type": "code",
   "execution_count": 56,
   "id": "c93b1231-12e5-49b3-9637-10d95b7ff5f8",
   "metadata": {},
   "outputs": [
    {
     "name": "stdout",
     "output_type": "stream",
     "text": [
      "Title case: Hello World\n"
     ]
    }
   ],
   "source": [
    "def convert_to_title_case(text):\n",
    "    # Step 1: Use the title() method to convert the text to title case.\n",
    "    title_case_text = text.title()\n",
    "\n",
    "    # Step 2: Return the converted text.\n",
    "    return title_case_text\n",
    "\n",
    "# Example usage\n",
    "text = \"hello world\"\n",
    "title_case_result = convert_to_title_case(text)\n",
    "print(\"Title case:\", title_case_result)"
   ]
  },
  {
   "cell_type": "markdown",
   "id": "5289def6-5fed-4021-8318-71798c9abdf2",
   "metadata": {},
   "source": [
    "20. Find the longest word in a string."
   ]
  },
  {
   "cell_type": "code",
   "execution_count": 58,
   "id": "49ea11b4-719d-4828-bab2-a86bb916d84f",
   "metadata": {},
   "outputs": [
    {
     "name": "stdout",
     "output_type": "stream",
     "text": [
      "Longest word: sentence\n"
     ]
    }
   ],
   "source": [
    "def find_longest_word(text):\n",
    "    # Step 1: Use the split() method to split the text into a list of words.\n",
    "    words = text.split()\n",
    "\n",
    "    # Step 2: Initialize variables to keep track of the longest word and its length.\n",
    "    longest_word = \"\"\n",
    "    max_length = 0\n",
    "\n",
    "    # Step 3: Iterate through the list of words.\n",
    "    for word in words:\n",
    "        # Check if the length of the current word is greater than the current max_length.\n",
    "        if len(word) > max_length:\n",
    "            max_length = len(word)\n",
    "            longest_word = word\n",
    "\n",
    "    # Step 4: Return the longest word.\n",
    "    return longest_word\n",
    "\n",
    "# Example usage\n",
    "text = \"This is an example sentence with some long words.\"\n",
    "longest_word = find_longest_word(text)\n",
    "print(\"Longest word:\", longest_word)"
   ]
  },
  {
   "cell_type": "markdown",
   "id": "a35b497a-d410-479d-853a-aa00dbcf1eb3",
   "metadata": {},
   "source": [
    "21. Find the shortest word in a string."
   ]
  },
  {
   "cell_type": "code",
   "execution_count": 1,
   "id": "297f5db5-7948-4fad-871e-15de287a7812",
   "metadata": {},
   "outputs": [
    {
     "name": "stdout",
     "output_type": "stream",
     "text": [
      "Shortest word: is\n"
     ]
    }
   ],
   "source": [
    "def find_shortest_word(text):\n",
    "    \n",
    "    words = text.split()\n",
    "\n",
    "    \n",
    "    shortest_word = None\n",
    "    min_length = float('inf')  \n",
    "\n",
    "    for word in words:\n",
    "        if len(word) < min_length:\n",
    "            min_length = len(word)\n",
    "            shortest_word = word\n",
    "\n",
    "    return shortest_word\n",
    "\n",
    "text = \"This is an example sentence with some short words.\"\n",
    "shortest_word = find_shortest_word(text)\n",
    "print(\"Shortest word:\", shortest_word)"
   ]
  },
  {
   "cell_type": "markdown",
   "id": "b1203a87-126d-4dc1-a04c-6d0dd74c15ce",
   "metadata": {},
   "source": [
    "22. Reverse the order of words in a string."
   ]
  },
  {
   "cell_type": "code",
   "execution_count": 2,
   "id": "4262ae92-bf88-4bf9-ad6e-431d9c20e78d",
   "metadata": {},
   "outputs": [
    {
     "name": "stdout",
     "output_type": "stream",
     "text": [
      "Shortest word: is\n"
     ]
    }
   ],
   "source": [
    "def find_shortest_word(text):\n",
    "    \n",
    "    words = text.split()\n",
    "\n",
    "    \n",
    "    shortest_word = None\n",
    "    min_length = float('inf')  \n",
    "\n",
    "    for word in words:\n",
    "        if len(word) < min_length:\n",
    "            min_length = len(word)\n",
    "            shortest_word = word\n",
    "\n",
    "    return shortest_word\n",
    "\n",
    "text = \"This is an example sentence with some short words.\"\n",
    "shortest_word = find_shortest_word(text)\n",
    "print(\"Shortest word:\", shortest_word)"
   ]
  },
  {
   "cell_type": "markdown",
   "id": "985d7521-6eae-48fc-b9fb-13114c6fb576",
   "metadata": {},
   "source": [
    "23. Check if a string is alphanumeric."
   ]
  },
  {
   "cell_type": "code",
   "execution_count": 9,
   "id": "39b1c371-23a5-48d1-a84c-15e14725dfb6",
   "metadata": {},
   "outputs": [
    {
     "name": "stdout",
     "output_type": "stream",
     "text": [
      "The string is alphanumeric.\n"
     ]
    }
   ],
   "source": [
    "def is_alphanumeric(text):\n",
    "    \n",
    "    return text.isalnum()\n",
    "text = \"hello123\"\n",
    "result = is_alphanumeric(text)\n",
    "if result:\n",
    "    print(\"The string is alphanumeric.\")\n",
    "else:\n",
    "    print(\"The string is not alphanumeric.\")"
   ]
  },
  {
   "cell_type": "markdown",
   "id": "d83f5c68-3e9d-4359-8a36-7c813143df6d",
   "metadata": {},
   "source": [
    "24. Extract all digits from a string."
   ]
  },
  {
   "cell_type": "code",
   "execution_count": 11,
   "id": "dd4efc02-c685-447c-bf72-338cd2849f9f",
   "metadata": {},
   "outputs": [
    {
     "name": "stdout",
     "output_type": "stream",
     "text": [
      "Extracted digits: 123456\n"
     ]
    }
   ],
   "source": [
    "def extract_digits(text):\n",
    "    digits = \"\"\n",
    "\n",
    "    for char in text:\n",
    "        if char.isdigit():\n",
    "            digits += char\n",
    "\n",
    "    return digits\n",
    "text = \"Hello123World456\"\n",
    "extracted_digits = extract_digits(text)\n",
    "print(\"Extracted digits:\", extracted_digits)"
   ]
  },
  {
   "cell_type": "markdown",
   "id": "484158ad-39c1-41a3-84c1-dc43e9f06d69",
   "metadata": {},
   "source": [
    "25. Extract all alphabets from a string."
   ]
  },
  {
   "cell_type": "code",
   "execution_count": 13,
   "id": "79fbe11c-394e-49e4-9403-6f582b992e4d",
   "metadata": {},
   "outputs": [
    {
     "name": "stdout",
     "output_type": "stream",
     "text": [
      "H e l l o W o r l d\n"
     ]
    }
   ],
   "source": [
    "def extract_alphabets(input_string):\n",
    "    alphabets = ' '.join([char for char in input_string if char.isalpha()])\n",
    "    return alphabets\n",
    "\n",
    "input_string = \"Hello123World456\"\n",
    "result = extract_alphabets(input_string)\n",
    "print(result)"
   ]
  },
  {
   "cell_type": "markdown",
   "id": "367dcd95-13c4-4190-8c1f-71aa0ac1a46c",
   "metadata": {},
   "source": [
    "26. Count the number of uppercase letters in a string."
   ]
  },
  {
   "cell_type": "code",
   "execution_count": 17,
   "id": "a0986561-8b39-4d14-826c-9336810c9dd7",
   "metadata": {},
   "outputs": [
    {
     "name": "stdout",
     "output_type": "stream",
     "text": [
      "6\n"
     ]
    }
   ],
   "source": [
    "def count_uppercase(input_string):\n",
    "    uppercase_count = sum(1 for char in input_string if char.isupper())\n",
    "    return uppercase_count\n",
    "\n",
    "input_string = \"HelloWORLD\"\n",
    "result = count_uppercase(input_string)\n",
    "print(result)"
   ]
  },
  {
   "cell_type": "markdown",
   "id": "af265045-c768-4a73-aeaf-bccb629df6eb",
   "metadata": {},
   "source": [
    "27. Count the number of lowercase letters in a string."
   ]
  },
  {
   "cell_type": "code",
   "execution_count": 21,
   "id": "2cbb974c-14c9-4fd0-afd8-aa771ad9dc4c",
   "metadata": {},
   "outputs": [
    {
     "name": "stdout",
     "output_type": "stream",
     "text": [
      "4\n"
     ]
    }
   ],
   "source": [
    "def count_lowercase(input_string):\n",
    "    lowercase_count = sum(1 for char in input_string if char.islower())\n",
    "    return lowercase_count\n",
    "\n",
    "input_string = \"HelloWORLD\"\n",
    "result = count_lowercase(input_string)\n",
    "print(result)"
   ]
  },
  {
   "cell_type": "markdown",
   "id": "161693e0-35e4-45db-80de-0d0b214dacba",
   "metadata": {},
   "source": [
    "28. Swap the case of each character in a string."
   ]
  },
  {
   "cell_type": "code",
   "execution_count": 25,
   "id": "b60a225b-70d8-4336-acaa-46ad02d9e693",
   "metadata": {},
   "outputs": [
    {
     "name": "stdout",
     "output_type": "stream",
     "text": [
      "hELLOworld\n"
     ]
    }
   ],
   "source": [
    "def swap_case(input_string):\n",
    "    swapped_string = input_string.swapcase()\n",
    "    return swapped_string\n",
    "\n",
    "input_string = \"HelloWORLD\"\n",
    "result = swap_case(input_string)\n",
    "print(result)"
   ]
  },
  {
   "cell_type": "markdown",
   "id": "069c9999-c2fa-4752-ba2e-209a2acdfbb6",
   "metadata": {},
   "source": [
    "29. Remove a specific word from a string."
   ]
  },
  {
   "cell_type": "code",
   "execution_count": 26,
   "id": "4f70d031-28b2-449d-b8f6-ffbeb8909619",
   "metadata": {},
   "outputs": [
    {
     "name": "stdout",
     "output_type": "stream",
     "text": [
      "Hello world, welcome to the of programming.\n"
     ]
    }
   ],
   "source": [
    "def remove_word(input_string, word_to_remove):\n",
    "    words = input_string.split()  \n",
    "    filtered_words = [word for word in words if word != word_to_remove] \n",
    "    modified_string = ' '.join(filtered_words)  \n",
    "    return modified_string\n",
    "\n",
    "input_string = \"Hello world, welcome to the world of programming.\"\n",
    "word_to_remove = \"world\"\n",
    "result = remove_word(input_string, word_to_remove)\n",
    "print(result)"
   ]
  },
  {
   "cell_type": "markdown",
   "id": "2dfd54ec-70e8-427d-9502-d15c35c96e7c",
   "metadata": {},
   "source": [
    "30. Check if a string is a valid email address."
   ]
  },
  {
   "cell_type": "code",
   "execution_count": 1,
   "id": "8aea7ef8-bfe7-4b43-8707-ac93d8331419",
   "metadata": {},
   "outputs": [
    {
     "name": "stdout",
     "output_type": "stream",
     "text": [
      "True\n",
      "False\n"
     ]
    }
   ],
   "source": [
    "import re\n",
    "def is_valid_email(email):\n",
    "    pattern = r'^[\\w\\.-]+@[\\w\\.-]+\\.\\w+$'  # Regular expression pattern for a basic email validation\n",
    "    if  re.match(pattern, email):\n",
    "        return True\n",
    "    else:\n",
    "        return False\n",
    "\n",
    "# Example email addresses\n",
    "email1 = \"example@email.com\"\n",
    "email2 = \"invalid-email\"\n",
    "result1 = is_valid_email(email1)\n",
    "result2 =  is_valid_email(email2)\n",
    "print(result1)\n",
    "print(result2)"
   ]
  },
  {
   "cell_type": "markdown",
   "id": "21f319fb-7a55-4a5d-98ca-08502e65810f",
   "metadata": {},
   "source": [
    "31. Extract the username from an email address string."
   ]
  },
  {
   "cell_type": "code",
   "execution_count": 7,
   "id": "55aac5a5-aab8-4ac8-bf72-3837d66b0852",
   "metadata": {},
   "outputs": [
    {
     "name": "stdout",
     "output_type": "stream",
     "text": [
      "example\n"
     ]
    }
   ],
   "source": [
    "def extract_username(email):  \n",
    "    username = email.split('@')[0]  \n",
    "    return username\n",
    "email = \"example@email.com\"\n",
    "result = extract_username(email)\n",
    "print(result)"
   ]
  },
  {
   "cell_type": "markdown",
   "id": "de5f2cb4-5b04-40ce-8662-94830d3f75ad",
   "metadata": {},
   "source": [
    "32. Extract the domain name from an email address string."
   ]
  },
  {
   "cell_type": "code",
   "execution_count": 12,
   "id": "daf2b6f2-11a9-4e5d-bfe6-1bf9c8b5539c",
   "metadata": {},
   "outputs": [
    {
     "name": "stdout",
     "output_type": "stream",
     "text": [
      "email.com\n"
     ]
    }
   ],
   "source": [
    "def extract_domain(email):  \n",
    "    domain = email.split('@')[1]  \n",
    "    return domain\n",
    "email = \"example@email.com\"\n",
    "result = extract_domain(email)\n",
    "print(result)"
   ]
  },
  {
   "cell_type": "markdown",
   "id": "9271b92a-c2c0-490d-bad9-b6cf5c377d6a",
   "metadata": {},
   "source": [
    "33. Replace multiple spaces in a string with a single space."
   ]
  },
  {
   "cell_type": "code",
   "execution_count": 13,
   "id": "f41b8e86-2b20-4741-b1cf-3297424152d4",
   "metadata": {},
   "outputs": [
    {
     "name": "stdout",
     "output_type": "stream",
     "text": [
      "Hello world! How are you?\n"
     ]
    }
   ],
   "source": [
    "def replace_multiple_spaces(input_string):\n",
    "    cleaned_string = ' '.join(input_string.split())\n",
    "    return cleaned_string\n",
    "\n",
    "input_string = \"Hello     world!   How   are   you?\"\n",
    "result = replace_multiple_spaces(input_string)\n",
    "print(result)"
   ]
  },
  {
   "cell_type": "markdown",
   "id": "980b2c4f-50de-4483-b711-47c982ee3b3d",
   "metadata": {},
   "source": [
    "34. Check if a string is a valid URL."
   ]
  },
  {
   "cell_type": "code",
   "execution_count": 17,
   "id": "339c0567-5dd3-403e-aa86-fc4b43484347",
   "metadata": {},
   "outputs": [
    {
     "name": "stdout",
     "output_type": "stream",
     "text": [
      "True\n",
      "False\n"
     ]
    }
   ],
   "source": [
    "from urllib.parse import urlparse\n",
    "\n",
    "def is_valid_url(url):\n",
    "    try:\n",
    "        result = urlparse(url)\n",
    "        return all([result.scheme, result.netloc]) \n",
    "    except ValueError:\n",
    "        return False\n",
    "url1 = \"https://www.example.com\"\n",
    "url2 = \"invalid-url\"\n",
    "result1 = is_valid_url(url1)\n",
    "result2 = is_valid_url(url2)\n",
    "print(result1)  \n",
    "print(result2)  "
   ]
  },
  {
   "cell_type": "markdown",
   "id": "68d79985-3ff7-4f36-a41d-e019234238c0",
   "metadata": {},
   "source": [
    "35. Extract the protocol (http or https) from a URL string."
   ]
  },
  {
   "cell_type": "code",
   "execution_count": 40,
   "id": "fb9c2f93-53a2-42c7-8cb3-1ee492f7df46",
   "metadata": {},
   "outputs": [
    {
     "name": "stdout",
     "output_type": "stream",
     "text": [
      "Protocol 1: https\n",
      "Protocol 2: http\n",
      "Protocol 3: ftp\n"
     ]
    }
   ],
   "source": [
    "def extract_protocol(url):\n",
    "\n",
    "    protocol_end = url.find(\"://\")\n",
    "\n",
    "    if protocol_end != -1:\n",
    "        \n",
    "        protocol = url[:protocol_end]\n",
    "        return protocol\n",
    "    else:\n",
    "        return None\n",
    "url1 = \"https://www.example.com\"\n",
    "url2 = \"http://google.com\"\n",
    "url3 = \"ftp://ftp.example.com\"\n",
    "\n",
    "protocol1 = extract_protocol(url1)\n",
    "protocol2 = extract_protocol(url2)\n",
    "protocol3 = extract_protocol(url3)\n",
    "\n",
    "\n",
    "print(\"Protocol 1:\", protocol1)\n",
    "print(\"Protocol 2:\", protocol2)\n",
    "print(\"Protocol 3:\", protocol3)"
   ]
  },
  {
   "cell_type": "markdown",
   "id": "83f21977-7f20-4cf1-8180-91953a7fc73b",
   "metadata": {},
   "source": [
    "36. Find the frequency of each character in a string."
   ]
  },
  {
   "cell_type": "code",
   "execution_count": 41,
   "id": "c310fbe0-ef6b-43df-96e8-952d65c55618",
   "metadata": {},
   "outputs": [
    {
     "name": "stdout",
     "output_type": "stream",
     "text": [
      "Character: 'h', Frequency: 1\n",
      "Character: 'e', Frequency: 1\n",
      "Character: 'l', Frequency: 3\n",
      "Character: 'o', Frequency: 2\n",
      "Character: ' ', Frequency: 1\n",
      "Character: 'w', Frequency: 1\n",
      "Character: 'r', Frequency: 1\n",
      "Character: 'd', Frequency: 1\n"
     ]
    }
   ],
   "source": [
    "def character_frequency(input_string):\n",
    "    frequency = {}  \n",
    "    for char in input_string:\n",
    "        if char in frequency:\n",
    "            frequency[char] += 1  \n",
    "        else:\n",
    "            frequency[char] = 1   \n",
    "\n",
    "    return frequency\n",
    "\n",
    "\n",
    "input_str = \"hello world\"\n",
    "\n",
    "char_freq = character_frequency(input_str)\n",
    "\n",
    "for char, freq in char_freq.items():\n",
    "    print(f\"Character: '{char}', Frequency: {freq}\")"
   ]
  },
  {
   "cell_type": "markdown",
   "id": "ba7bc038-664e-4797-be0c-9cd68b25d913",
   "metadata": {},
   "source": [
    "37. Remove all punctuation from a string."
   ]
  },
  {
   "cell_type": "code",
   "execution_count": 42,
   "id": "e1015375-5466-4f2c-a7ae-46908400afcc",
   "metadata": {},
   "outputs": [
    {
     "name": "stdout",
     "output_type": "stream",
     "text": [
      "Original string: Hello, world! How's it going?\n",
      "Cleaned string: Hello world Hows it going\n"
     ]
    }
   ],
   "source": [
    "import string\n",
    "\n",
    "def remove_punctuation(input_string):\n",
    "    \n",
    "    translator = str.maketrans(\"\", \"\", string.punctuation)\n",
    "\n",
    "    \n",
    "    clean_string = input_string.translate(translator)\n",
    "\n",
    "    return clean_string\n",
    "\n",
    "\n",
    "input_str = \"Hello, world! How's it going?\"\n",
    "\n",
    "\n",
    "cleaned_str = remove_punctuation(input_str)\n",
    "\n",
    "\n",
    "print(\"Original string:\", input_str)\n",
    "print(\"Cleaned string:\", cleaned_str)"
   ]
  },
  {
   "cell_type": "markdown",
   "id": "74603723-cecb-4dbf-8652-1ec5800c447a",
   "metadata": {},
   "source": [
    "38. Check if a string contains only digits."
   ]
  },
  {
   "cell_type": "code",
   "execution_count": 43,
   "id": "3f4c70d7-a4e4-4af3-8aab-294d4853bb71",
   "metadata": {},
   "outputs": [
    {
     "name": "stdout",
     "output_type": "stream",
     "text": [
      "'12345' contains only digits: True\n",
      "'Hello123' contains only digits: False\n",
      "'456.789' contains only digits: False\n"
     ]
    }
   ],
   "source": [
    "def contains_only_digits(input_string):\n",
    "    \n",
    "    return input_string.isdigit()\n",
    "\n",
    "\n",
    "string1 = \"12345\"\n",
    "string2 = \"Hello123\"\n",
    "string3 = \"456.789\"\n",
    "\n",
    "result1 = contains_only_digits(string1)\n",
    "result2 = contains_only_digits(string2)\n",
    "result3 = contains_only_digits(string3)\n",
    "\n",
    "print(f\"'{string1}' contains only digits:\", result1)\n",
    "print(f\"'{string2}' contains only digits:\", result2)\n",
    "print(f\"'{string3}' contains only digits:\", result3)"
   ]
  },
  {
   "cell_type": "markdown",
   "id": "540c9ab4-9cea-40ec-86a6-250bc0070bcf",
   "metadata": {},
   "source": [
    "39. Check if a string contains only alphabets."
   ]
  },
  {
   "cell_type": "code",
   "execution_count": 45,
   "id": "984de4a9-e7a5-4155-a19e-9c12599d2c32",
   "metadata": {},
   "outputs": [
    {
     "name": "stdout",
     "output_type": "stream",
     "text": [
      "'Hello' contains only alphabets: True\n",
      "'Hello123' contains only alphabets: False\n",
      "'12345' contains only alphabets: False\n"
     ]
    }
   ],
   "source": [
    "def contains_only_alphabets(input_string):\n",
    "    \n",
    "    return input_string.isalpha()\n",
    "\n",
    "string1 = \"Hello\"\n",
    "string2 = \"Hello123\"\n",
    "string3 = \"12345\"\n",
    "\n",
    "result1 = contains_only_alphabets(string1)\n",
    "result2 = contains_only_alphabets(string2)\n",
    "result3 = contains_only_alphabets(string3)\n",
    "\n",
    "print(f\"'{string1}' contains only alphabets:\", result1)\n",
    "print(f\"'{string2}' contains only alphabets:\", result2)\n",
    "print(f\"'{string3}' contains only alphabets:\", result3)"
   ]
  },
  {
   "cell_type": "markdown",
   "id": "f2f543b6-188a-48e2-b118-34022769801f",
   "metadata": {},
   "source": [
    "40. Convert a string to a list of characters."
   ]
  },
  {
   "cell_type": "code",
   "execution_count": 46,
   "id": "8120b4e9-93b4-427e-8879-3f5509f77ce0",
   "metadata": {},
   "outputs": [
    {
     "name": "stdout",
     "output_type": "stream",
     "text": [
      "Original string: Hello, world!\n",
      "List of characters: ['H', 'e', 'l', 'l', 'o', ',', ' ', 'w', 'o', 'r', 'l', 'd', '!']\n"
     ]
    }
   ],
   "source": [
    "def string_to_list(input_string):\n",
    "    \n",
    "    char_list = list(input_string)\n",
    "    return char_list\n",
    "\n",
    "input_str = \"Hello, world!\"\n",
    "\n",
    "char_list = string_to_list(input_str)\n",
    "\n",
    "print(\"Original string:\", input_str)\n",
    "print(\"List of characters:\", char_list)"
   ]
  },
  {
   "cell_type": "markdown",
   "id": "2d4b0d85-8603-45a9-8424-ef60e36fa771",
   "metadata": {},
   "source": [
    "41. Check if two strings are anagrams."
   ]
  },
  {
   "cell_type": "code",
   "execution_count": 49,
   "id": "a8078fb3-8f49-4c0d-92f4-232d986bc11c",
   "metadata": {},
   "outputs": [
    {
     "name": "stdout",
     "output_type": "stream",
     "text": [
      "'listen' and 'silent' are anagrams: True\n",
      "'hello' and 'world' are anagrams: False\n"
     ]
    }
   ],
   "source": [
    "def are_anagrams(str1, str2):\n",
    "       \n",
    "        str1 = str1.replace(\" \", \"\").lower()\n",
    "        str2 = str2.replace(\" \", \"\").lower()\n",
    "\n",
    "        return sorted(str1) == sorted(str2)\n",
    "\n",
    "string1 = \"listen\"\n",
    "string2 = \"silent\"\n",
    "string3 = \"hello\"\n",
    "string4 = \"world\"\n",
    "\n",
    "result1 = are_anagrams(string1, string2)\n",
    "result2 = are_anagrams(string3, string4)\n",
    "\n",
    "print(f\"'{string1}' and '{string2}' are anagrams:\", result1)\n",
    "print(f\"'{string3}' and '{string4}' are anagrams:\", result2)"
   ]
  },
  {
   "cell_type": "markdown",
   "id": "ddd96b2b-5854-457f-9c93-324fbbc44b22",
   "metadata": {},
   "source": [
    "42. Encode a string using a Caesar cipher."
   ]
  },
  {
   "cell_type": "code",
   "execution_count": 63,
   "id": "d96ade60-696b-4c9b-8886-c881c57c73f7",
   "metadata": {},
   "outputs": [
    {
     "name": "stdout",
     "output_type": "stream",
     "text": [
      "Encoded text: ehoor, zruog!\n"
     ]
    }
   ],
   "source": [
    "def caesar_cipher(text, shift):\n",
    "  \"\"\"\n",
    "  Encodes a string using a Caesar cipher.\n",
    "\n",
    "  Args:\n",
    "    text: The string to encode.\n",
    "    shift: The number of positions to shift each letter.\n",
    "\n",
    "  Returns:\n",
    "    The encoded string.\n",
    "  \"\"\"\n",
    "\n",
    "\n",
    "  encoded_text = \"\"\n",
    "\n",
    "  \n",
    "  for char in text:\n",
    "    \n",
    "    if char.isalpha():\n",
    "      \n",
    "      \n",
    "      encoded_char = chr((ord(char) + shift - ord('a')) % 26 + ord('a'))\n",
    "    else:\n",
    "      \n",
    "      encoded_char = char\n",
    "\n",
    "    \n",
    "    encoded_text += encoded_char\n",
    "\n",
    "  \n",
    "  return encoded_text\n",
    "text = \"Hello, world!\"\n",
    "shift = 3\n",
    "encoded_text = caesar_cipher(text, shift)\n",
    "print(\"Encoded text:\", encoded_text)"
   ]
  },
  {
   "cell_type": "markdown",
   "id": "aaeed248-77b7-4a3b-aec0-6efcbc8e4ea9",
   "metadata": {},
   "source": [
    "43. Decode a Caesar cipher encoded string."
   ]
  },
  {
   "cell_type": "code",
   "execution_count": 64,
   "id": "a8565d34-6751-4010-91fb-93df0fc5fa38",
   "metadata": {},
   "outputs": [
    {
     "name": "stdout",
     "output_type": "stream",
     "text": [
      "Decoded text: ilmm, world!\n"
     ]
    }
   ],
   "source": [
    "def caesar_cipher_decoder(text, shift):\n",
    "    \"\"\"\n",
    "    Decodes a string using a Caesar cipher.\n",
    "\n",
    "    Args:\n",
    "        text: The string to decode.\n",
    "        shift: The number of positions to shift each letter.\n",
    "\n",
    "    Returns:\n",
    "        The decoded string.\n",
    "    \"\"\"\n",
    "\n",
    "    \n",
    "    decoded_text = \"\"\n",
    "\n",
    "    \n",
    "    for char in text:\n",
    "        \n",
    "        if char.isalpha():\n",
    "            \n",
    "            decoded_char = chr((ord(char) - shift - ord('a')) % 26 + ord('a'))\n",
    "        else:\n",
    "            \n",
    "            decoded_char = char\n",
    "\n",
    "        \n",
    "        decoded_text += decoded_char\n",
    "\n",
    "    \n",
    "    return decoded_text\n",
    "\n",
    "text = \"lopp, zruog!\"\n",
    "shift = 3\n",
    "\n",
    "decoded_text = caesar_cipher_decoder(text, shift)\n",
    "\n",
    "print(\"Decoded text:\", decoded_text)"
   ]
  },
  {
   "cell_type": "markdown",
   "id": "b0f66571-c4ac-41f1-be11-50cb385f4430",
   "metadata": {},
   "source": [
    "44. Find the most frequent word in a string."
   ]
  },
  {
   "cell_type": "code",
   "execution_count": 7,
   "id": "8ce48cbc-9302-4f4c-acdf-2a950cbaabb0",
   "metadata": {},
   "outputs": [
    {
     "name": "stdout",
     "output_type": "stream",
     "text": [
      "Most frequent word: hello\n"
     ]
    }
   ],
   "source": [
    "import re\n",
    "from collections import Counter\n",
    "\n",
    "def most_frequent_word(input_string):\n",
    "   \n",
    "    clean_string = re.sub(r'[^\\w\\s]', '', input_string).lower()\n",
    "    \n",
    "\n",
    "    words = clean_string.split()\n",
    "\n",
    "    word_counter = Counter(words)\n",
    "    \n",
    "\n",
    "    most_common_word = word_counter.most_common(1)[0][0]\n",
    "    \n",
    "    return most_common_word\n",
    "\n",
    "input_str = \"Hello world, hello there! How's the world?\"\n",
    "most_common = most_frequent_word(input_str)\n",
    "print(\"Most frequent word:\", most_common)"
   ]
  },
  {
   "cell_type": "markdown",
   "id": "76160742-c597-4219-bddd-f6c297f20644",
   "metadata": {},
   "source": [
    "45. Find all unique words in a string."
   ]
  },
  {
   "cell_type": "code",
   "execution_count": 100,
   "id": "b2271c99-95fe-4578-96db-5d86aa4f1369",
   "metadata": {},
   "outputs": [
    {
     "name": "stdout",
     "output_type": "stream",
     "text": [
      "Unique words: {'the', 'world', 'hows', 'there', 'hello'}\n"
     ]
    }
   ],
   "source": [
    "import re\n",
    "\n",
    "def unique_words(input_string):\n",
    "    # Remove punctuation and convert to lowercase\n",
    "    clean_string = re.sub(r'[^\\w\\s]', '', input_string).lower()\n",
    "\n",
    "    # Split the string into words and convert to a set for uniqueness\n",
    "    words = set(clean_string.split())\n",
    "\n",
    "    return words\n",
    "\n",
    "# Example string\n",
    "input_str = \"Hello world, hello there! How's the world?\"\n",
    "\n",
    "# Find unique words\n",
    "unique_word_set = unique_words(input_str)\n",
    "\n",
    "# Print the result\n",
    "print(\"Unique words:\", unique_word_set)"
   ]
  },
  {
   "cell_type": "markdown",
   "id": "b5c5694f-69da-40aa-8644-37607cab5758",
   "metadata": {},
   "source": [
    "46. Count the number of syllables in a string."
   ]
  },
  {
   "cell_type": "code",
   "execution_count": 101,
   "id": "a3e79bc0-936f-48fd-8335-ad3baee7050d",
   "metadata": {},
   "outputs": [
    {
     "name": "stdout",
     "output_type": "stream",
     "text": [
      "'hello' has 2 syllables.\n",
      "'banana' has 3 syllables.\n",
      "'syllable' has 3 syllables.\n"
     ]
    }
   ],
   "source": [
    "import re\n",
    "\n",
    "def count_syllables(word):\n",
    "    # Count vowel groups using regular expression\n",
    "    vowel_groups = re.findall(r'[aeiouy]+', word, re.IGNORECASE)\n",
    "\n",
    "    return len(vowel_groups)\n",
    "\n",
    "# Example words\n",
    "word1 = \"hello\"\n",
    "word2 = \"banana\"\n",
    "word3 = \"syllable\"\n",
    "\n",
    "# Count syllables\n",
    "syllables1 = count_syllables(word1)\n",
    "syllables2 = count_syllables(word2)\n",
    "syllables3 = count_syllables(word3)\n",
    "\n",
    "# Print the results\n",
    "print(f\"'{word1}' has {syllables1} syllables.\")\n",
    "print(f\"'{word2}' has {syllables2} syllables.\")\n",
    "print(f\"'{word3}' has {syllables3} syllables.\")"
   ]
  },
  {
   "cell_type": "markdown",
   "id": "ffcc175c-b730-40ee-98f6-b2b3057153b9",
   "metadata": {},
   "source": [
    "47. Check if a string contains any special characters."
   ]
  },
  {
   "cell_type": "code",
   "execution_count": 102,
   "id": "6f593931-b875-4a71-817e-df16374c9dbf",
   "metadata": {},
   "outputs": [
    {
     "name": "stdout",
     "output_type": "stream",
     "text": [
      "'Hello, world!' contains special characters: True\n",
      "'This is a test.' contains special characters: True\n",
      "'Special@Characters' contains special characters: True\n"
     ]
    }
   ],
   "source": [
    "import re\n",
    "\n",
    "def contains_special_characters(input_string):\n",
    "    # Define a regular expression pattern to match special characters\n",
    "    pattern = re.compile(r'[!@#$%^&*()_+{}\\[\\]:;<>,.?~\\\\/]')\n",
    "\n",
    "    # Use the search() method to find a match\n",
    "    match = pattern.search(input_string)\n",
    "\n",
    "    # Return True if a match is found, False otherwise\n",
    "    return bool(match)\n",
    "\n",
    "# Example strings\n",
    "string1 = \"Hello, world!\"\n",
    "string2 = \"This is a test.\"\n",
    "string3 = \"Special@Characters\"\n",
    "\n",
    "# Check if strings contain special characters\n",
    "result1 = contains_special_characters(string1)\n",
    "result2 = contains_special_characters(string2)\n",
    "result3 = contains_special_characters(string3)\n",
    "\n",
    "# Print the results\n",
    "print(f\"'{string1}' contains special characters:\", result1)\n",
    "print(f\"'{string2}' contains special characters:\", result2)\n",
    "print(f\"'{string3}' contains special characters:\", result3)"
   ]
  },
  {
   "cell_type": "markdown",
   "id": "3a2e52c4-8102-4338-b180-245b30bf3343",
   "metadata": {},
   "source": [
    "48. Remove the nth word from a string."
   ]
  },
  {
   "cell_type": "code",
   "execution_count": 103,
   "id": "25b88593-d6e7-4944-a949-889db4790c36",
   "metadata": {},
   "outputs": [
    {
     "name": "stdout",
     "output_type": "stream",
     "text": [
      "Original string: This is an example sentence to test the function.\n",
      "Modified string: This is an sentence to test the function.\n",
      "Removed word: example\n"
     ]
    }
   ],
   "source": [
    "def remove_nth_word(input_string, n):\n",
    "    # Split the input string into words\n",
    "    words = input_string.split()\n",
    "\n",
    "    # Check if n is within a valid range\n",
    "    if n >= 1 and n <= len(words):\n",
    "        # Remove the nth word by excluding it from the words list\n",
    "        removed_word = words.pop(n - 1)\n",
    "\n",
    "        # Join the remaining words to form the modified string\n",
    "        modified_string = ' '.join(words)\n",
    "\n",
    "        return modified_string, removed_word\n",
    "    else:\n",
    "        return None, None\n",
    "\n",
    "# Example string and n value\n",
    "input_str = \"This is an example sentence to test the function.\"\n",
    "n_value = 4\n",
    "\n",
    "# Remove the nth word\n",
    "modified_str, removed_word = remove_nth_word(input_str, n_value)\n",
    "\n",
    "# Print the results\n",
    "print(\"Original string:\", input_str)\n",
    "if modified_str is not None:\n",
    "    print(\"Modified string:\", modified_str)\n",
    "    print(\"Removed word:\", removed_word)\n",
    "else:\n",
    "    print(\"Invalid n value.\")"
   ]
  },
  {
   "cell_type": "markdown",
   "id": "2b389e2e-a35e-40f8-9e80-a9e449be1104",
   "metadata": {},
   "source": [
    "49. Insert a word at the nth position in a string."
   ]
  },
  {
   "cell_type": "code",
   "execution_count": 23,
   "id": "a543ee65-c1bb-4c6f-8ba4-bb8795c56bde",
   "metadata": {},
   "outputs": [
    {
     "name": "stdout",
     "output_type": "stream",
     "text": [
      "the original string : hello world is famous\n",
      "the Nth word in string : hello\n"
     ]
    }
   ],
   "source": [
    "input_str = \"hello world is famous\"\n",
    "print(\"the original string : \" + input_str)\n",
    "N = 1\n",
    "count = 0\n",
    "res = \"\"\n",
    "for ele in input_str:\n",
    "    if ele == ' ':\n",
    "        count = count + 1\n",
    "        if count == N:\n",
    "            break\n",
    "        res = \"\"\n",
    "    else :\n",
    "        res = res + ele\n",
    "print(\"the Nth word in string : \" + res)        "
   ]
  },
  {
   "cell_type": "markdown",
   "id": "061fa543-08c8-4860-ba05-5d82a457760c",
   "metadata": {},
   "source": [
    "50. Convert a CSV string to a list of lists."
   ]
  },
  {
   "cell_type": "code",
   "execution_count": 104,
   "id": "afecad45-3dbf-4103-942a-cb08521abe8a",
   "metadata": {},
   "outputs": [
    {
     "name": "stdout",
     "output_type": "stream",
     "text": [
      "['Name', ' Age', ' Country']\n",
      "['John', ' 25', ' USA']\n",
      "['Alice', ' 30', ' Canada']\n",
      "['Bob', ' 22', ' UK']\n"
     ]
    }
   ],
   "source": [
    "def csv_string_to_list(csv_string):\n",
    "    # Split the CSV string into lines\n",
    "    lines = csv_string.split('\\n')\n",
    "\n",
    "    # Initialize an empty list to store the result\n",
    "    result = []\n",
    "\n",
    "    for line in lines:\n",
    "        # Split each line into fields using comma as the delimiter\n",
    "        fields = line.split(',')\n",
    "\n",
    "        # Append the fields to the result list as a row\n",
    "        result.append(fields)\n",
    "\n",
    "    return result\n",
    "\n",
    "# Example CSV string\n",
    "csv_data = \"Name, Age, Country\\nJohn, 25, USA\\nAlice, 30, Canada\\nBob, 22, UK\"\n",
    "\n",
    "# Convert CSV string to a list of lists\n",
    "list_of_lists = csv_string_to_list(csv_data)\n",
    "\n",
    "# Print the result\n",
    "for row in list_of_lists:\n",
    "    print(row)"
   ]
  },
  {
   "cell_type": "markdown",
   "id": "ad575266-8c48-4568-9cdf-d48897be3b83",
   "metadata": {},
   "source": [
    "                                                    List Based Practice Problem :"
   ]
  },
  {
   "cell_type": "markdown",
   "id": "6d75c7f4-f101-4d16-aabb-fc8aedfcae8f",
   "metadata": {},
   "source": [
    "1. Create a list with integers from 1 to 10."
   ]
  },
  {
   "cell_type": "code",
   "execution_count": 1,
   "id": "d5e83612-4978-4fe0-af04-8213e51d8d1c",
   "metadata": {},
   "outputs": [
    {
     "name": "stdout",
     "output_type": "stream",
     "text": [
      "[1, 2, 3, 4, 5, 6, 7, 8, 9, 10]\n"
     ]
    }
   ],
   "source": [
    "integer_list = [i for i in range(1,11)]\n",
    "print(integer_list)"
   ]
  },
  {
   "cell_type": "markdown",
   "id": "e32d185a-96bd-4b2f-8f0a-4e978235ac5d",
   "metadata": {},
   "source": [
    "2. Find the length of a list without using the `len()` function."
   ]
  },
  {
   "cell_type": "code",
   "execution_count": 6,
   "id": "f96b3eec-063e-4b32-94d5-a804661568b3",
   "metadata": {},
   "outputs": [
    {
     "name": "stdout",
     "output_type": "stream",
     "text": [
      "length of the list: 5\n"
     ]
    }
   ],
   "source": [
    "def custom_len(input_list):\n",
    "    \n",
    "    count=0\n",
    "    \n",
    "    for _ in input_list:\n",
    "        count +=1\n",
    "    return count\n",
    "my_list = [10,20,30,40,50]\n",
    "length = custom_len(my_list)\n",
    "print(\"length of the list:\",length)\n"
   ]
  },
  {
   "cell_type": "markdown",
   "id": "8ce8ff0b-8286-43f3-90d0-fc5a32398136",
   "metadata": {},
   "source": [
    "3. Append an element to the end of a list."
   ]
  },
  {
   "cell_type": "code",
   "execution_count": 8,
   "id": "916d4cf2-1a78-4560-94ab-dfab2f6d45a2",
   "metadata": {},
   "outputs": [
    {
     "name": "stdout",
     "output_type": "stream",
     "text": [
      "updated list: [10, 20, 30, 40]\n"
     ]
    }
   ],
   "source": [
    "my_list = [10,20,30]\n",
    "new_element = 40\n",
    "my_list.append(new_element)\n",
    "print(\"updated list:\",my_list)"
   ]
  },
  {
   "cell_type": "markdown",
   "id": "85ed4f26-e224-4c99-bfcf-7e156654563d",
   "metadata": {},
   "source": [
    "4. Insert an element at a specific index in a list."
   ]
  },
  {
   "cell_type": "code",
   "execution_count": 9,
   "id": "7154edff-ce7f-45fe-9d5a-3c523b02049a",
   "metadata": {},
   "outputs": [
    {
     "name": "stdout",
     "output_type": "stream",
     "text": [
      "updated list: [10, 20, 25, 30, 40, 50]\n"
     ]
    }
   ],
   "source": [
    "my_list = [10,20,30,40,50]\n",
    "new_element = 25\n",
    "index_to_insert = 2\n",
    "my_list.insert(index_to_insert, new_element)\n",
    "print(\"updated list:\",my_list)"
   ]
  },
  {
   "cell_type": "markdown",
   "id": "f4a6d7a3-89d1-4415-acac-1a4a46c3d6e5",
   "metadata": {},
   "source": [
    "5. Remove an element from a list by its value."
   ]
  },
  {
   "cell_type": "code",
   "execution_count": 10,
   "id": "b8d74acf-a4d6-41fd-8d27-924e9d87d648",
   "metadata": {},
   "outputs": [
    {
     "name": "stdout",
     "output_type": "stream",
     "text": [
      "updated list: [10, 20, 40, 50]\n"
     ]
    }
   ],
   "source": [
    "my_list = [10,20,30,40,50]\n",
    "element_to_remove = 30\n",
    "my_list.remove(element_to_remove)\n",
    "print(\"updated list:\",my_list)"
   ]
  },
  {
   "cell_type": "markdown",
   "id": "ae1cfee0-9b08-4b3a-84d3-92c7b8de7b63",
   "metadata": {},
   "source": [
    "6. Remove an element from a list by its index."
   ]
  },
  {
   "cell_type": "code",
   "execution_count": 15,
   "id": "a15ac9a7-4a66-4a54-af4b-0baa00944e94",
   "metadata": {},
   "outputs": [
    {
     "name": "stdout",
     "output_type": "stream",
     "text": [
      "removed element: 40\n",
      "updated list: [10, 20, 30, 50]\n"
     ]
    }
   ],
   "source": [
    "my_list = [10,20,30,40,50]\n",
    "index_to_remove = 3\n",
    "removed_element = my_list.pop(index_to_remove)\n",
    "print(\"removed element:\", removed_element)\n",
    "print(\"updated list:\",my_list)"
   ]
  },
  {
   "cell_type": "markdown",
   "id": "0115d41d-5e88-4904-b022-f6d3632338d8",
   "metadata": {},
   "source": [
    "7. Check if an element exists in a list."
   ]
  },
  {
   "cell_type": "code",
   "execution_count": 7,
   "id": "c29c44e1-efb4-4a83-9ddf-4421e6866ac1",
   "metadata": {},
   "outputs": [
    {
     "name": "stdout",
     "output_type": "stream",
     "text": [
      "40 exists in the list.\n"
     ]
    }
   ],
   "source": [
    "my_list = [10,20,30,40,50]\n",
    "element_to_check = 40\n",
    "if element_to_check in my_list:\n",
    "    print(f\"{element_to_check} exists in the list.\")\n",
    "else:\n",
    "    print(f\"{element_to_check}does not exists in the list.\")\n"
   ]
  },
  {
   "cell_type": "markdown",
   "id": "7a79a7e4-ea59-4d2e-a924-32fad079b74f",
   "metadata": {},
   "source": [
    "8. Find the index of the first occurrence of an element in a list."
   ]
  },
  {
   "cell_type": "code",
   "execution_count": 9,
   "id": "fbf82f95-fe62-4ba8-b047-4964e042cf89",
   "metadata": {},
   "outputs": [
    {
     "name": "stdout",
     "output_type": "stream",
     "text": [
      "the index of 30 is 2\n"
     ]
    }
   ],
   "source": [
    "my_list = [10,20,30,40,50,30]\n",
    "element_to_find = 30\n",
    "index = my_list.index(element_to_find)\n",
    "print(f\"the index of {element_to_find} is {index}\")"
   ]
  },
  {
   "cell_type": "markdown",
   "id": "27c3e3f6-376a-4245-ba43-b4e16716b307",
   "metadata": {},
   "source": [
    "9. Count the occurrences of an element in a list."
   ]
  },
  {
   "cell_type": "code",
   "execution_count": 10,
   "id": "bf587899-7a12-4811-af1d-e0bd293b9eef",
   "metadata": {},
   "outputs": [
    {
     "name": "stdout",
     "output_type": "stream",
     "text": [
      "the count of 30 occures 3 times in the list.\n"
     ]
    }
   ],
   "source": [
    "my_list = [10,20,30,40,50,30,30]\n",
    "element_to_count = 30\n",
    "count = my_list.count(element_to_count)\n",
    "print(f\"the count of {element_to_count} occures {count} times in the list.\")"
   ]
  },
  {
   "cell_type": "markdown",
   "id": "333b8275-3828-4b30-9d31-d6cdd51fbabf",
   "metadata": {},
   "source": [
    "10. Reverse the order of elements in a list."
   ]
  },
  {
   "cell_type": "code",
   "execution_count": 13,
   "id": "c72bf470-b645-41e6-a327-ba6dcdc4eb65",
   "metadata": {},
   "outputs": [
    {
     "name": "stdout",
     "output_type": "stream",
     "text": [
      "Reversed list: [50, 40, 30, 20, 10]\n"
     ]
    }
   ],
   "source": [
    "my_list = [10,20,30,40,50]\n",
    "my_list.reverse()\n",
    "print(\"Reversed list:\", my_list)"
   ]
  },
  {
   "cell_type": "markdown",
   "id": "a21a6b7f-fc18-4d88-8768-dc01f43bcd25",
   "metadata": {},
   "source": [
    "11. Sort a list in ascending order."
   ]
  },
  {
   "cell_type": "code",
   "execution_count": 16,
   "id": "192b520c-d659-436a-b57e-c40dc0949071",
   "metadata": {},
   "outputs": [
    {
     "name": "stdout",
     "output_type": "stream",
     "text": [
      "sorted list in ascending order: [10, 20, 30, 40, 50]\n"
     ]
    }
   ],
   "source": [
    "my_list = [10,20,30,40,50]\n",
    "my_list.sort()\n",
    "print(\"sorted list in ascending order:\", my_list)"
   ]
  },
  {
   "cell_type": "markdown",
   "id": "f254167e-f904-42ef-9877-fde70b02499b",
   "metadata": {},
   "source": [
    "12. sort a list in descending order."
   ]
  },
  {
   "cell_type": "code",
   "execution_count": 20,
   "id": "74518c84-7fb7-4595-b5a6-0eacdcf2e16e",
   "metadata": {},
   "outputs": [
    {
     "name": "stdout",
     "output_type": "stream",
     "text": [
      "sorted list in descending order: [50, 40, 30, 20, 10]\n"
     ]
    }
   ],
   "source": [
    "my_list = [50,10,30,40,20]\n",
    "my_list.sort(reverse = True)\n",
    "print(\"sorted list in descending order:\", my_list)"
   ]
  },
  {
   "cell_type": "markdown",
   "id": "394d129c-d0c9-4cdf-ba00-f7dd19aee018",
   "metadata": {},
   "source": [
    "13. create a list of even numbers from 1 to 20."
   ]
  },
  {
   "cell_type": "code",
   "execution_count": 21,
   "id": "8cb4832f-02a6-477e-bb25-6c038742a7d0",
   "metadata": {},
   "outputs": [
    {
     "name": "stdout",
     "output_type": "stream",
     "text": [
      "list of even_numbers: [2, 4, 6, 8, 10, 12, 14, 16, 18, 20]\n"
     ]
    }
   ],
   "source": [
    "even_numbers = [x for x in range (2,21,2)]\n",
    "print(\"list of even_numbers:\", even_numbers)"
   ]
  },
  {
   "cell_type": "markdown",
   "id": "05f9556c-dd49-4484-ae70-079b53ecc8d3",
   "metadata": {},
   "source": [
    "14. Create a list of odd numbers from 1 to 20."
   ]
  },
  {
   "cell_type": "code",
   "execution_count": 26,
   "id": "ade48156-0dd1-410e-bb8e-a60d19f9ae65",
   "metadata": {},
   "outputs": [
    {
     "name": "stdout",
     "output_type": "stream",
     "text": [
      "list of odd_numbers: [1, 3, 5, 7, 9, 11, 13, 15, 17, 19]\n"
     ]
    }
   ],
   "source": [
    "odd_numbers = [x for x in range(1,21,2)]\n",
    "print(\"list of odd_numbers:\", odd_numbers)"
   ]
  },
  {
   "cell_type": "markdown",
   "id": "04e68ccb-50a9-42e4-a6da-56bec3c9be75",
   "metadata": {},
   "source": [
    "15. find the sum of all elements in a list."
   ]
  },
  {
   "cell_type": "code",
   "execution_count": 28,
   "id": "69a2025d-a201-479b-8116-69e5f1ed664f",
   "metadata": {},
   "outputs": [
    {
     "name": "stdout",
     "output_type": "stream",
     "text": [
      "Sum of elements: 150\n"
     ]
    }
   ],
   "source": [
    "my_list = [10,20,30,40,50]\n",
    "total_sum = sum(my_list)\n",
    "print(\"Sum of elements:\", total_sum)"
   ]
  },
  {
   "cell_type": "markdown",
   "id": "b20c8ad0-936b-4691-b00e-3477f2e225c8",
   "metadata": {},
   "source": [
    "16. find the maximum value in a list."
   ]
  },
  {
   "cell_type": "code",
   "execution_count": 29,
   "id": "f0c5d6a8-faec-4eee-9102-4ba76550b86b",
   "metadata": {},
   "outputs": [
    {
     "name": "stdout",
     "output_type": "stream",
     "text": [
      "maximum value: 50\n"
     ]
    }
   ],
   "source": [
    "my_list = [10,20,30,40,50]\n",
    "max_value = max(my_list)\n",
    "print(\"maximum value:\", max_value)"
   ]
  },
  {
   "cell_type": "markdown",
   "id": "855797a4-d3f2-4da6-aab1-245e9024384f",
   "metadata": {},
   "source": [
    "17. find the minimum value in a list."
   ]
  },
  {
   "cell_type": "code",
   "execution_count": 31,
   "id": "0a4ed262-d41a-4b9d-83af-753e30ec3dab",
   "metadata": {},
   "outputs": [
    {
     "name": "stdout",
     "output_type": "stream",
     "text": [
      "minimum value: 5\n"
     ]
    }
   ],
   "source": [
    "my_list = [100,200,300,5,500]\n",
    "min_value = min(my_list)\n",
    "print(\"minimum value:\", min_value)"
   ]
  },
  {
   "cell_type": "markdown",
   "id": "dba204e0-f37a-4a78-b7cb-1f4af43affdb",
   "metadata": {},
   "source": [
    "18. create a list of squares of numbers from 1 to 10."
   ]
  },
  {
   "cell_type": "code",
   "execution_count": 32,
   "id": "cbcc081e-db1f-438e-8ff1-a536af70ca44",
   "metadata": {},
   "outputs": [
    {
     "name": "stdout",
     "output_type": "stream",
     "text": [
      "list of squares: [1, 4, 9, 16, 25, 36, 49, 64, 81, 100]\n"
     ]
    }
   ],
   "source": [
    "squares = [x**2 for x in range (1,11)]\n",
    "print(\"list of squares:\", squares)"
   ]
  },
  {
   "cell_type": "markdown",
   "id": "1e5daf85-c3b3-4b90-aafc-0c80862aeeba",
   "metadata": {},
   "source": [
    "19. create a list of random numbers."
   ]
  },
  {
   "cell_type": "code",
   "execution_count": 49,
   "id": "4b7c5004-2a2e-4e84-8cd1-3292ed718247",
   "metadata": {},
   "outputs": [
    {
     "name": "stdout",
     "output_type": "stream",
     "text": [
      "list of random integers: [61, 95, 65, 69, 60, 74, 73, 77, 72, 74]\n"
     ]
    }
   ],
   "source": [
    "import random\n",
    "\n",
    "random_integers = [random.randint( 1, 100) for _ in range(10)]\n",
    "\n",
    "print(\"list of random integers:\", random_integers)"
   ]
  },
  {
   "cell_type": "markdown",
   "id": "f43c0cb3-d866-49a4-a09f-7e96accaedd8",
   "metadata": {},
   "source": [
    "20. remove duplicates from list."
   ]
  },
  {
   "cell_type": "code",
   "execution_count": 51,
   "id": "407135d9-beeb-4d7d-b3fb-9150c165b15b",
   "metadata": {},
   "outputs": [
    {
     "name": "stdout",
     "output_type": "stream",
     "text": [
      "list without duplicates: [40, 10, 50, 20, 30]\n"
     ]
    }
   ],
   "source": [
    "my_list = [10,20,30,20,40,10,50,30]\n",
    "unique_list = list(set(my_list))\n",
    "print(\"list without duplicates:\",unique_list)"
   ]
  },
  {
   "cell_type": "markdown",
   "id": "c393f933-9e95-4439-9bca-0b7cce46ef20",
   "metadata": {},
   "source": [
    "21.  find the comman elements between two lists ."
   ]
  },
  {
   "cell_type": "code",
   "execution_count": 52,
   "id": "569f15ed-f9cf-40d8-be77-fe1b6d3830e7",
   "metadata": {},
   "outputs": [
    {
     "name": "stdout",
     "output_type": "stream",
     "text": [
      "[3, 5]\n"
     ]
    }
   ],
   "source": [
    "a = [2,3,4,5]\n",
    "b = [3,5,7,9]\n",
    "def comman (a,b):\n",
    "    c = [value for value in a if value in b]\n",
    "    return c\n",
    "d = comman(a,b)\n",
    "print(d)"
   ]
  },
  {
   "cell_type": "markdown",
   "id": "d8819475-4b5d-4920-b9a0-9f489f0a34f2",
   "metadata": {},
   "source": [
    "22. find the difference between two lists ."
   ]
  },
  {
   "cell_type": "code",
   "execution_count": 53,
   "id": "bea8a624-ddee-416f-9a3a-ea80d5346a75",
   "metadata": {},
   "outputs": [
    {
     "name": "stdout",
     "output_type": "stream",
     "text": [
      "difference between lists: [20, 10]\n"
     ]
    }
   ],
   "source": [
    "list1 = [10,20,30,40,50]\n",
    "list2 = [30,40,50,60,70]\n",
    "difference = list(set(list1).difference(list2))\n",
    "print(\"difference between lists:\", difference)"
   ]
  },
  {
   "cell_type": "markdown",
   "id": "8f6327af-9a05-4b7b-a7d3-873ce02d824c",
   "metadata": {},
   "source": [
    "23. merge two lists."
   ]
  },
  {
   "cell_type": "code",
   "execution_count": 54,
   "id": "1fca7bab-f850-4cff-9dac-41785ffdbddf",
   "metadata": {},
   "outputs": [
    {
     "name": "stdout",
     "output_type": "stream",
     "text": [
      "merged list: [10, 20, 30, 40, 50, 60]\n"
     ]
    }
   ],
   "source": [
    "list1 = [10,20,30]\n",
    "list2 = [40,50,60]\n",
    "merged_list = list1+list2\n",
    "print(\"merged list:\", merged_list)"
   ]
  },
  {
   "cell_type": "markdown",
   "id": "da645992-9ac6-4f28-b80a-4543794e3af8",
   "metadata": {},
   "source": [
    "24. multiply all elements in a list by 2."
   ]
  },
  {
   "cell_type": "code",
   "execution_count": 55,
   "id": "af97f83d-c68b-47d7-89c5-ea9f1ee539c0",
   "metadata": {},
   "outputs": [
    {
     "name": "stdout",
     "output_type": "stream",
     "text": [
      "multiplied list: [20, 40, 60, 80, 100]\n"
     ]
    }
   ],
   "source": [
    "my_list = [10,20,30,40,50]\n",
    "multiplied_list = [x*2 for x in my_list]\n",
    "print(\"multiplied list:\", multiplied_list)"
   ]
  },
  {
   "cell_type": "markdown",
   "id": "5c087e28-0195-429f-8031-8755c17df8ce",
   "metadata": {},
   "source": [
    "25. filter out all even numbers from a list ."
   ]
  },
  {
   "cell_type": "code",
   "execution_count": 57,
   "id": "40adbfab-fe99-4dd6-ac4d-c4f09ba6b437",
   "metadata": {},
   "outputs": [
    {
     "name": "stdout",
     "output_type": "stream",
     "text": [
      "[36, 40, 42]\n"
     ]
    }
   ],
   "source": [
    "list_A = [33,35,36,39,40,42]\n",
    "res = []\n",
    "for n in list_A:\n",
    "    if n % 2 == 0:\n",
    "        res.append(n)\n",
    "        \n",
    "print(res)        "
   ]
  },
  {
   "cell_type": "markdown",
   "id": "1b1b2db2-476c-4b9d-a7eb-962906d8ebcd",
   "metadata": {},
   "source": [
    "26.  convert a list of strings to a list of integers ."
   ]
  },
  {
   "cell_type": "code",
   "execution_count": 59,
   "id": "1894bb9a-d187-43be-8496-718fc1f882a5",
   "metadata": {},
   "outputs": [
    {
     "name": "stdout",
     "output_type": "stream",
     "text": [
      "list of integers: [10, 20, 30, 40, 50]\n"
     ]
    }
   ],
   "source": [
    "string_list = [\"10\",\"20\",\"30\",\"40\",\"50\"]\n",
    "integer_list = [int(x) for x in string_list]\n",
    "print(\"list of integers:\", integer_list) "
   ]
  },
  {
   "cell_type": "markdown",
   "id": "102ec3e1-7dad-4c16-9556-654f8f075973",
   "metadata": {},
   "source": [
    "27.  convert a list of integers to a list of strings ."
   ]
  },
  {
   "cell_type": "code",
   "execution_count": 60,
   "id": "afdd6ffa-e2c9-426a-aca0-6376531e2459",
   "metadata": {},
   "outputs": [
    {
     "name": "stdout",
     "output_type": "stream",
     "text": [
      "list of strings: ['10', '20', '30', '40', '50']\n"
     ]
    }
   ],
   "source": [
    "integer_list = [10,20,30,40,50]\n",
    "string_list = [str(x) for x in integer_list]\n",
    "print(\"list of strings:\", string_list)"
   ]
  },
  {
   "cell_type": "markdown",
   "id": "a4cb1523-23a7-4aa7-beeb-7516227bc375",
   "metadata": {},
   "source": [
    "28. Flatten a nested list ."
   ]
  },
  {
   "cell_type": "code",
   "execution_count": 11,
   "id": "df1d0451-ab06-4b38-8f1c-9df9118b1934",
   "metadata": {},
   "outputs": [
    {
     "name": "stdout",
     "output_type": "stream",
     "text": [
      "flattened list: [1, 2, 3, 4, 5, 6, 7, 8, 9]\n"
     ]
    }
   ],
   "source": [
    "nested_list = [[1,2,3],[4,5],[6,7,8,9]]\n",
    "\n",
    "def flatten_list(nested):\n",
    "    flattened = []\n",
    "    for sublist in nested:\n",
    "        if isinstance(sublist, list):\n",
    "            flattened.extend(flatten_list(sublist))\n",
    "        else:\n",
    "            flattened.append(sublist)\n",
    "    return flattened\n",
    "\n",
    "flattened_list = flatten_list(nested_list)\n",
    "\n",
    "print(\"flattened list:\", flattened_list)\n",
    "                             \n",
    "        \n",
    "        "
   ]
  },
  {
   "cell_type": "markdown",
   "id": "cf3b88b0-9272-4060-91c8-73b9d616cf14",
   "metadata": {},
   "source": [
    "29. create a list of the first 10 fibonacci numbers ."
   ]
  },
  {
   "cell_type": "code",
   "execution_count": 12,
   "id": "3b943a10-ebaf-4763-ba84-e7e51d0f0ef8",
   "metadata": {},
   "outputs": [
    {
     "name": "stdout",
     "output_type": "stream",
     "text": [
      "first 10 fibonacci numbers: [0, 1]\n"
     ]
    }
   ],
   "source": [
    "def generate_fibonacci(n):\n",
    "    fibonacci_list = [0,1]\n",
    "    for i in range (2,n):\n",
    "        next_fibonacci = fibonacci_list[i-1]+fibonacci_list[i-2]\n",
    "        fibonacci_list.append(next_fibonacci)\n",
    "        \n",
    "    return fibonacci_list\n",
    "\n",
    "fibonacci_number = generate_fibonacci(2)\n",
    "\n",
    "print(\"first 10 fibonacci numbers:\", fibonacci_number)\n",
    "        \n",
    "        "
   ]
  },
  {
   "cell_type": "markdown",
   "id": "058bc9f1-00b6-4999-aaed-014a5ee8ad91",
   "metadata": {},
   "source": [
    "30. check if a list is sorted ."
   ]
  },
  {
   "cell_type": "code",
   "execution_count": 20,
   "id": "13cccca7-76fe-419d-a2b0-ca83ae1f45f2",
   "metadata": {},
   "outputs": [
    {
     "name": "stdout",
     "output_type": "stream",
     "text": [
      "the list is sorted in ascending order.\n"
     ]
    }
   ],
   "source": [
    "def is_sorted_ascending(lst):\n",
    "    for i in range(1, len(lst)):\n",
    "        if lst [i] < lst[i-1]:\n",
    "            return False\n",
    "    return True\n",
    "ascending_list = [10,20,30,40,50]\n",
    "if is_sorted_ascending(ascending_list):\n",
    "    print(\"the list is sorted in ascending order.\")\n",
    "else:\n",
    "    print(\"the list is not sorted in ascending order.\")           \n",
    "                          "
   ]
  },
  {
   "cell_type": "markdown",
   "id": "714b0826-e61b-4956-823b-19097129836f",
   "metadata": {},
   "source": [
    "31. Rotate a list to the left by n positions ."
   ]
  },
  {
   "cell_type": "code",
   "execution_count": 22,
   "id": "af342a49-7702-43c2-aad4-5551b9199f10",
   "metadata": {},
   "outputs": [
    {
     "name": "stdout",
     "output_type": "stream",
     "text": [
      "Rotated list: [3, 4, 5, 6, 1, 2]\n"
     ]
    }
   ],
   "source": [
    "def rotate_left(lst, n):\n",
    "    n = n % len(lst)\n",
    "    \n",
    "    roteted = lst[n:] + lst[:n]\n",
    "    return roteted\n",
    "\n",
    "my_list = [1,2,3,4,5,6]\n",
    "\n",
    "n = 2\n",
    "rotated_list = rotate_left(my_list, n)\n",
    "\n",
    "print(\"Rotated list:\", rotated_list)"
   ]
  },
  {
   "cell_type": "markdown",
   "id": "cea7f260-6831-4a8c-972f-86f1f03bbd87",
   "metadata": {},
   "source": [
    "32.  Rotate a list to the right by n positions ."
   ]
  },
  {
   "cell_type": "code",
   "execution_count": 26,
   "id": "639ec25d-4a12-4724-94a8-813ad47836cf",
   "metadata": {},
   "outputs": [
    {
     "name": "stdout",
     "output_type": "stream",
     "text": [
      "Rotated list: [5, 6, 1, 2, 3, 4]\n"
     ]
    }
   ],
   "source": [
    "def rotate_right(lst, n):\n",
    "    n = n % (len(lst))\n",
    "    \n",
    "    roteted = lst[-n:] + lst[:-n]\n",
    "    return roteted\n",
    "\n",
    "my_list = [1,2,3,4,5,6]\n",
    "\n",
    "n = 2\n",
    "rotated_list = rotate_right(my_list, n)\n",
    "\n",
    "print(\"Rotated list:\", rotated_list)"
   ]
  },
  {
   "cell_type": "markdown",
   "id": "c2276a08-8782-48c8-94bf-f29e34042f7a",
   "metadata": {},
   "source": [
    "33. create a list of prime number up to 50 ."
   ]
  },
  {
   "cell_type": "code",
   "execution_count": 1,
   "id": "6f0c2903-ec08-4be4-b0b3-130162880a70",
   "metadata": {},
   "outputs": [
    {
     "name": "stdout",
     "output_type": "stream",
     "text": [
      "5 25\n",
      "5 29\n",
      "List of prime numbers up to 50: [2, 3, 5, 7, 11, 13, 17, 19, 23, 29]\n"
     ]
    }
   ],
   "source": [
    "def is_prime(num):\n",
    "    if num <= 1:\n",
    "        return False\n",
    "    if num <= 3:\n",
    "        return True\n",
    "    if num % 2 == 0 or num % 3 == 0:\n",
    "        return False\n",
    "    i = 5\n",
    "    while i * i <= num:\n",
    "      print(i,num)\n",
    "      if num % i == 0 or num % (i + 2) == 0:\n",
    "          return False\n",
    "      i += 6\n",
    "    return True\n",
    "\n",
    "prime_numbers = [num for num in range(2,30) if is_prime(num)]\n",
    "\n",
    "print(\"List of prime numbers up to 50:\", prime_numbers)"
   ]
  },
  {
   "cell_type": "markdown",
   "id": "9e216702-9c89-4b33-93e5-6c7bb8d84895",
   "metadata": {},
   "source": [
    "34. split a list into chunks of size n."
   ]
  },
  {
   "cell_type": "code",
   "execution_count": 8,
   "id": "adf12a00-bfb8-4672-ba68-d2ad00a1dd64",
   "metadata": {},
   "outputs": [
    {
     "name": "stdout",
     "output_type": "stream",
     "text": [
      "List of prime numbers up to 50: [2, 3, 5, 7, 11, 13, 17, 19, 23, 29, 31, 37, 41, 43, 47]\n"
     ]
    }
   ],
   "source": [
    "def sieve_of_eratosthenes(limit):\n",
    "    primes = []\n",
    "    is_prime = [True] * (limit + 1)\n",
    "    is_prime[0] = is_prime[1] = False\n",
    "\n",
    "    for num in range(2, int(limit ** 0.5) + 1):\n",
    "        if is_prime[num]:\n",
    "            primes.append(num)\n",
    "            for multiple in range(num * num, limit + 1, num):\n",
    "                is_prime[multiple] = False\n",
    "\n",
    "    for num in range(int(limit ** 0.5) + 1, limit + 1):\n",
    "        if is_prime[num]:\n",
    "            primes.append(num)\n",
    "\n",
    "    return primes\n",
    "\n",
    "prime_numbers = sieve_of_eratosthenes(50)\n",
    "\n",
    "print(\"List of prime numbers up to 50:\", prime_numbers)"
   ]
  },
  {
   "cell_type": "markdown",
   "id": "686bd03c-262b-4c02-aea4-16527c58713f",
   "metadata": {},
   "source": [
    "35. find the second largest number in a list ."
   ]
  },
  {
   "cell_type": "code",
   "execution_count": 9,
   "id": "97aaf213-66ae-4fcc-9a65-76c7741974b7",
   "metadata": {},
   "outputs": [
    {
     "name": "stdout",
     "output_type": "stream",
     "text": [
      "second largest number: 25\n"
     ]
    }
   ],
   "source": [
    "my_list = [10,5,20,15,30,25]\n",
    "sorted_list = sorted(set(my_list))\n",
    "if len(sorted_list) >= 2:\n",
    "    second_largest = sorted_list[-2]\n",
    "    print(\"second largest number:\",second_largest)\n",
    "else:\n",
    "    print(\"the list does not contain enough elements.\")"
   ]
  },
  {
   "cell_type": "markdown",
   "id": "07090a07-5fa4-4b50-8bae-479776de7ae8",
   "metadata": {},
   "source": [
    "36. Replace every element in a list with its square . "
   ]
  },
  {
   "cell_type": "code",
   "execution_count": 11,
   "id": "c88261fe-9c23-4d5a-8b81-bbc1f268fdc3",
   "metadata": {},
   "outputs": [
    {
     "name": "stdout",
     "output_type": "stream",
     "text": [
      "squared list: [4, 16, 36, 64, 100]\n"
     ]
    }
   ],
   "source": [
    "my_list = [2,4,6,8,10]\n",
    "\n",
    "squared_list = [x ** 2 for x in my_list]\n",
    "\n",
    "print(\"squared list:\", squared_list)"
   ]
  },
  {
   "cell_type": "markdown",
   "id": "b3cbbdaf-7a08-4c61-9b6d-566c70d277bb",
   "metadata": {},
   "source": [
    "37. convert a list to a dictionary where list elements become keys and their indices become values . "
   ]
  },
  {
   "cell_type": "code",
   "execution_count": 12,
   "id": "26cbc495-e457-48d0-a36b-5662898195de",
   "metadata": {},
   "outputs": [
    {
     "name": "stdout",
     "output_type": "stream",
     "text": [
      "converted dictionary: {'apple': 0, 'banana': 1, 'cherry': 2, 'date': 3, 'elderberry': 4}\n"
     ]
    }
   ],
   "source": [
    "my_list = [\"apple\", \"banana\", \"cherry\", \"date\", \"elderberry\"]\n",
    "\n",
    "my_dict = {element: index for index, element in enumerate(my_list)}\n",
    "\n",
    "print(\"converted dictionary:\", my_dict)"
   ]
  },
  {
   "cell_type": "markdown",
   "id": "d8a2a291-43c8-4d02-826c-f8ed2a5ba987",
   "metadata": {},
   "source": [
    "38. shuffle the elements of a list randomly. "
   ]
  },
  {
   "cell_type": "code",
   "execution_count": 20,
   "id": "2b2ebfed-190d-4bd7-9bb8-57969aaf601f",
   "metadata": {},
   "outputs": [
    {
     "name": "stdout",
     "output_type": "stream",
     "text": [
      "shuffled list: [8, 6, 5, 10, 2, 4, 9, 7, 3, 1]\n"
     ]
    }
   ],
   "source": [
    "import random\n",
    "my_list = [1,2,3,4,5,6,7,8,9,10]\n",
    "random.shuffle(my_list)\n",
    "print(\"shuffled list:\", my_list)"
   ]
  },
  {
   "cell_type": "markdown",
   "id": "2e8c99cf-c365-402c-9369-ba2bc0c8b858",
   "metadata": {},
   "source": [
    "39. create a list of the first 10 factorial numbers. "
   ]
  },
  {
   "cell_type": "code",
   "execution_count": 21,
   "id": "59c4eeb6-ca4c-4999-943b-e934e2c1b45a",
   "metadata": {},
   "outputs": [
    {
     "name": "stdout",
     "output_type": "stream",
     "text": [
      "list of the first 10 factorial numbers: [1, 1, 2, 6, 24, 120, 720, 5040, 40320, 362880]\n"
     ]
    }
   ],
   "source": [
    "def factorial(n):\n",
    "    if n == 0 or n == 1:\n",
    "        return 1\n",
    "    else:\n",
    "        return n * factorial (n-1)\n",
    "factorial_numbers =[factorial (i) for i in range (10)]\n",
    "\n",
    "print(\"list of the first 10 factorial numbers:\", factorial_numbers)\n",
    "    "
   ]
  },
  {
   "cell_type": "markdown",
   "id": "6dd1b0cf-35c2-45ff-9828-99385dd603b3",
   "metadata": {},
   "source": [
    "40. check if two lists have at least one element in comman."
   ]
  },
  {
   "cell_type": "code",
   "execution_count": 34,
   "id": "ab5be324-afc2-4eab-b2e7-702d5d85b70e",
   "metadata": {},
   "outputs": [
    {
     "name": "stdout",
     "output_type": "stream",
     "text": [
      "the lists have at least one comman element.\n"
     ]
    }
   ],
   "source": [
    "def has_comman_element(list1, list2):\n",
    "    for item in list1:\n",
    "        if item in list2:\n",
    "            return True\n",
    "    return False\n",
    "    \n",
    "list1 = [1, 2, 3, 4, 5]\n",
    "list2 = [4, 5, 6, 7, 8]\n",
    "    \n",
    "if has_comman_element(list1, list2):\n",
    "    \n",
    "    print(\"the lists have at least one comman element.\")\n",
    "else:\n",
    "    print(\"the lists do not have at least one comman element.\") \n"
   ]
  },
  {
   "cell_type": "markdown",
   "id": "823713bd-ccda-41ab-9aae-4bf9dcbc2da6",
   "metadata": {},
   "source": [
    "41. Remove all elements from a list. "
   ]
  },
  {
   "cell_type": "code",
   "execution_count": 35,
   "id": "0a499406-5364-4276-b6d6-498c0174f3ee",
   "metadata": {},
   "outputs": [
    {
     "name": "stdout",
     "output_type": "stream",
     "text": [
      "empty list: []\n"
     ]
    }
   ],
   "source": [
    "my_list = [1,2,3,4,5]\n",
    "my_list.clear()\n",
    "print(\"empty list:\", my_list)"
   ]
  },
  {
   "cell_type": "markdown",
   "id": "8af86985-e6f7-4f20-bd8f-2edf1c3a313f",
   "metadata": {},
   "source": [
    "42. Replace nagative numbers in a list with 0."
   ]
  },
  {
   "cell_type": "code",
   "execution_count": 38,
   "id": "b4f410de-7b5c-494c-837b-04602258312d",
   "metadata": {},
   "outputs": [
    {
     "name": "stdout",
     "output_type": "stream",
     "text": [
      "list after replacing nagative numbers with 0: [10, 0, 20, 0, 30, 0]\n"
     ]
    }
   ],
   "source": [
    "my_list = [10, -5, 20, -15, 30, -25]\n",
    "for i in range (len(my_list)):\n",
    "    if my_list[i] < 0:\n",
    "        my_list[i] = 0\n",
    "        \n",
    "print(\"list after replacing nagative numbers with 0:\", my_list)"
   ]
  },
  {
   "cell_type": "markdown",
   "id": "ebf14c71-32f4-4214-94cd-6067e06ac50f",
   "metadata": {},
   "source": [
    "43. convert a string into a list of words."
   ]
  },
  {
   "cell_type": "code",
   "execution_count": 39,
   "id": "a86c95f3-7ee8-403b-98a4-0274efd08780",
   "metadata": {},
   "outputs": [
    {
     "name": "stdout",
     "output_type": "stream",
     "text": [
      "list of words: ['hello,', 'this', 'is', 'sample', 'sentence.']\n"
     ]
    }
   ],
   "source": [
    "my_string = \"hello, this is sample sentence.\"\n",
    "word_list = my_string.split()\n",
    "print(\"list of words:\",word_list)\n"
   ]
  },
  {
   "cell_type": "markdown",
   "id": "54a6e960-9f45-48b5-b5e5-44c92058d508",
   "metadata": {},
   "source": [
    "44. convert a list of words into a string."
   ]
  },
  {
   "cell_type": "code",
   "execution_count": 41,
   "id": "c5493289-821c-454c-b5c7-bd7496a94f4a",
   "metadata": {},
   "outputs": [
    {
     "name": "stdout",
     "output_type": "stream",
     "text": [
      "converted string: hello this is a sample sentence.\n"
     ]
    }
   ],
   "source": [
    "word_list = [\"hello\", \"this\", \"is\", \"a\", \"sample\", \"sentence.\"]\n",
    "my_string = \" \" .join(word_list)\n",
    "print(\"converted string:\", my_string)"
   ]
  },
  {
   "cell_type": "markdown",
   "id": "a62fdce2-4b5a-4a49-88a0-b98fac6ab599",
   "metadata": {},
   "source": [
    "45. create a list of words into a string."
   ]
  },
  {
   "cell_type": "code",
   "execution_count": 42,
   "id": "a93e023b-fc70-4a45-a668-698a5457f241",
   "metadata": {},
   "outputs": [
    {
     "name": "stdout",
     "output_type": "stream",
     "text": [
      "list of the first 5 power of 2: [1, 2, 4, 8, 16]\n"
     ]
    }
   ],
   "source": [
    "n = 5\n",
    "power_list = [2 ** i for i in range(n)]\n",
    "print(\"list of the first\", n,\"power of 2:\", power_list)"
   ]
  },
  {
   "cell_type": "markdown",
   "id": "dc8a4d13-f442-4e03-80d1-151b712dd6f5",
   "metadata": {},
   "source": [
    "46. find the longest string in list of strings."
   ]
  },
  {
   "cell_type": "code",
   "execution_count": 50,
   "id": "c958e6d9-5a68-43bd-82aa-f9316fd72124",
   "metadata": {},
   "outputs": [
    {
     "name": "stdout",
     "output_type": "stream",
     "text": [
      "longest string: elderbery\n"
     ]
    }
   ],
   "source": [
    "string_list = [\"apple\",\"banana\", \"cherry\", \"date\", \"elderbery\"]\n",
    "\n",
    "longest_string = \" \"\n",
    "for s in string_list:\n",
    "    if len(s) > len(longest_string):\n",
    "        longest_string = s\n",
    "print(\"longest string:\", longest_string)"
   ]
  },
  {
   "cell_type": "markdown",
   "id": "11b87d3e-481d-4b10-aaf6-900c33c62ae9",
   "metadata": {},
   "source": [
    "47. find the shortest string in a list of strings."
   ]
  },
  {
   "cell_type": "code",
   "execution_count": 53,
   "id": "06a9e3d9-1229-4c58-8641-7879504789a3",
   "metadata": {},
   "outputs": [
    {
     "name": "stdout",
     "output_type": "stream",
     "text": [
      "shortest string: date\n"
     ]
    }
   ],
   "source": [
    "string_list = [\"apple\",\"banana\", \"cherry\", \"date\", \"elderbery\"]\n",
    "\n",
    "shortest_string = string_list[0]\n",
    "for s in string_list:\n",
    "    if len(s) < len(shortest_string):\n",
    "        shortest_string = s\n",
    "print(\"shortest string:\", shortest_string)"
   ]
  },
  {
   "cell_type": "markdown",
   "id": "25d3e413-f51a-47d7-8110-d89a50393208",
   "metadata": {},
   "source": [
    "48. create a list of the first n triangular numbers."
   ]
  },
  {
   "cell_type": "code",
   "execution_count": 55,
   "id": "3a9d59c2-9b9a-46a1-934e-b5ff58c53c92",
   "metadata": {},
   "outputs": [
    {
     "name": "stdout",
     "output_type": "stream",
     "text": [
      "list of the first 5 triangular numbers: [1, 3, 6, 10, 15]\n"
     ]
    }
   ],
   "source": [
    "def triangular_numbers(n):\n",
    "    return[i * (i + 1) // 2 for  i in range (1,n+1)]\n",
    "#specify the value of n\n",
    "n = 5\n",
    "triangular_list = triangular_numbers(n)\n",
    "\n",
    "print(\"list of the first\", n, \"triangular numbers:\", triangular_list)"
   ]
  },
  {
   "cell_type": "markdown",
   "id": "1fe10348-a2f6-4f43-ae8a-e1595fb8ec56",
   "metadata": {},
   "source": [
    "49. check if a list contains another list as a subsequence."
   ]
  },
  {
   "cell_type": "code",
   "execution_count": 62,
   "id": "b3e1bd87-2e4e-4387-93c6-2eea71900633",
   "metadata": {},
   "outputs": [
    {
     "name": "stdout",
     "output_type": "stream",
     "text": [
      "main list contains the subsequence.\n"
     ]
    }
   ],
   "source": [
    "def is_subsequence(subsequence, main_list):\n",
    "    subseq_index = 0\n",
    "    \n",
    "    for element in main_list:\n",
    "        if element == subsequence[subseq_index]:\n",
    "            subseq_index += 1\n",
    "            if subseq_index == len(subsequence):\n",
    "                return True\n",
    "    return False\n",
    "        \n",
    "main_list = [1, 2, 3, 4, 5, 6, 7, 8, 9, 10 ]\n",
    "subsequence = [3, 5, 8]\n",
    "\n",
    "\n",
    "if is_subsequence(subsequence, main_list):\n",
    "    print(\"main list contains the subsequence.\")\n",
    "else:\n",
    "    print(\"main list does not contains the subsequence\")\n",
    "\n"
   ]
  },
  {
   "cell_type": "markdown",
   "id": "d64f486f-5366-4596-be7b-9d7803dd778c",
   "metadata": {},
   "source": [
    "50. swap two elements in a list by their indices."
   ]
  },
  {
   "cell_type": "code",
   "execution_count": 63,
   "id": "6e6d5b2a-715d-4b86-a8e3-2a7a87ece862",
   "metadata": {},
   "outputs": [
    {
     "name": "stdout",
     "output_type": "stream",
     "text": [
      "list after swaping elements: [1, 4, 3, 2, 5]\n"
     ]
    }
   ],
   "source": [
    "my_list = [1, 2, 3, 4, 5]\n",
    "\n",
    "index1 = 1\n",
    "index2 = 3\n",
    "\n",
    "temp = my_list[index1]\n",
    "my_list[index1] = my_list[index2]\n",
    "my_list[index2] = temp\n",
    "print(\"list after swaping elements:\", my_list)"
   ]
  },
  {
   "cell_type": "markdown",
   "id": "cdf2df0b-e289-4065-8399-6a0238e625eb",
   "metadata": {},
   "source": [
    "                                     Tuple based practice problem :"
   ]
  },
  {
   "cell_type": "markdown",
   "id": "a607f5e2-e5fb-4d08-a870-17e54c2d132f",
   "metadata": {},
   "source": [
    "1. create a tuple with integers from 1 to 5."
   ]
  },
  {
   "cell_type": "code",
   "execution_count": 4,
   "id": "72d5e51c-5145-4486-99dd-43b5e4265e32",
   "metadata": {},
   "outputs": [
    {
     "name": "stdout",
     "output_type": "stream",
     "text": [
      "The create element of the tuple is: (10, 20, 30, 40, 50)\n"
     ]
    }
   ],
   "source": [
    "my_tuple = (10, 20, 30, 40, 50)\n",
    "create_element = my_tuple\n",
    "print(\"The create element of the tuple is:\",create_element)"
   ]
  },
  {
   "cell_type": "markdown",
   "id": "31af687c-cf2e-4251-88d8-d6fbef53d943",
   "metadata": {},
   "source": [
    "2.  access the third element of a tuple."
   ]
  },
  {
   "cell_type": "code",
   "execution_count": 3,
   "id": "96b80fbc-efa1-4eb5-a8c0-93599af41947",
   "metadata": {},
   "outputs": [
    {
     "name": "stdout",
     "output_type": "stream",
     "text": [
      "The third element of the tuple is: 30\n"
     ]
    }
   ],
   "source": [
    "my_tuple = (10, 20, 30, 40, 50)\n",
    "third_element = my_tuple[2]\n",
    "print(\"The third element of the tuple is:\",third_element)"
   ]
  },
  {
   "cell_type": "markdown",
   "id": "88f8ed1d-7cc7-4f03-9260-e311e7618af5",
   "metadata": {},
   "source": [
    "3. find the length of a tuple without using the len( ) function."
   ]
  },
  {
   "cell_type": "code",
   "execution_count": 12,
   "id": "49a500c0-5751-4dcb-aab1-9613b9dc32d7",
   "metadata": {},
   "outputs": [
    {
     "name": "stdout",
     "output_type": "stream",
     "text": [
      "the length of the tuple is: 5\n"
     ]
    }
   ],
   "source": [
    "my_tuple = (10, 20, 30, 40, 50)\n",
    "count = 0\n",
    "for _ in my_tuple:\n",
    "    count += 1\n",
    "print(\"the length of the tuple is:\", count)"
   ]
  },
  {
   "cell_type": "markdown",
   "id": "b9235918-5498-413e-ab56-ec7248f83705",
   "metadata": {},
   "source": [
    "4. count the occurrences of an element in a tuple."
   ]
  },
  {
   "cell_type": "code",
   "execution_count": 15,
   "id": "fcfb4c60-6291-4b94-850a-0f0ccd0fae8e",
   "metadata": {},
   "outputs": [
    {
     "name": "stdout",
     "output_type": "stream",
     "text": [
      "the element 20 appears3 times in the tuple.\n"
     ]
    }
   ],
   "source": [
    "my_tuple = (10, 20, 30, 20, 40, 20, 50)\n",
    "element_to_count = 20\n",
    "count = 0\n",
    "for item in my_tuple:\n",
    "    if item == element_to_count:\n",
    "        count += 1\n",
    "print(f\"the element {element_to_count} appears{count} times in the tuple.\")       \n",
    "        "
   ]
  },
  {
   "cell_type": "markdown",
   "id": "f1f95231-bb8f-456b-beb0-08c997af3bd1",
   "metadata": {},
   "source": [
    "5.  find the index of the first occurrence of an element in a tuple. "
   ]
  },
  {
   "cell_type": "code",
   "execution_count": 23,
   "id": "09f7cf39-0aed-43fc-ab7e-cafd0a6e4e07",
   "metadata": {},
   "outputs": [
    {
     "name": "stdout",
     "output_type": "stream",
     "text": [
      "the first occurrence of 20 is at index 1.\n"
     ]
    }
   ],
   "source": [
    "my_tuple = (10, 20, 30, 20, 40, 50)\n",
    "element_to_find = 20\n",
    "index = -1\n",
    "for i, item in enumerate(my_tuple):\n",
    "    if item == element_to_find:\n",
    "        index = i\n",
    "        break\n",
    "if index != -1:\n",
    "    \n",
    "     print(f\"the first occurrence of {element_to_find} is at index {index}.\")\n",
    "else:\n",
    "     print(f\"{element_to_find} is not found in the tuple.\")\n",
    "    \n",
    "    "
   ]
  },
  {
   "cell_type": "markdown",
   "id": "2272b4ca-f8b3-4de1-a2c0-73ad321ba139",
   "metadata": {},
   "source": [
    "6.  check if an element exists in a tuple."
   ]
  },
  {
   "cell_type": "code",
   "execution_count": 33,
   "id": "2daa8347-9841-48ea-9d45-f174f712c902",
   "metadata": {},
   "outputs": [
    {
     "name": "stdout",
     "output_type": "stream",
     "text": [
      "30 exists in the tuple.\n"
     ]
    }
   ],
   "source": [
    "my_tuple = (10, 20, 30, 40, 50)\n",
    "element_to_check = 30\n",
    "if element_to_check in my_tuple:\n",
    "    print(f\"{element_to_check} exists in the tuple.\")\n",
    "else:\n",
    "    print(f\"{element_to_check} does not exists in the tuple.\")"
   ]
  },
  {
   "cell_type": "markdown",
   "id": "7506c260-0c2f-4510-adf5-f6faccd31d90",
   "metadata": {},
   "source": [
    "7.  convert a tuple to a list."
   ]
  },
  {
   "cell_type": "code",
   "execution_count": 34,
   "id": "307c4496-3e27-4eb5-92d0-50b74b2cee63",
   "metadata": {},
   "outputs": [
    {
     "name": "stdout",
     "output_type": "stream",
     "text": [
      "tuple: (10, 20, 30, 40, 50)\n",
      "list: [10, 20, 30, 40, 50]\n"
     ]
    }
   ],
   "source": [
    "my_tuple = (10, 20, 30, 40, 50)\n",
    "my_list = list(my_tuple)\n",
    "print(\"tuple:\", my_tuple)\n",
    "print(\"list:\", my_list)"
   ]
  },
  {
   "cell_type": "markdown",
   "id": "a64e1524-5f8b-40a7-94a6-6b495d413ab3",
   "metadata": {},
   "source": [
    "8.  convert a list to a tuple."
   ]
  },
  {
   "cell_type": "code",
   "execution_count": 35,
   "id": "a0fa4658-11e7-4e6a-ae1e-4d32b23530ed",
   "metadata": {},
   "outputs": [
    {
     "name": "stdout",
     "output_type": "stream",
     "text": [
      "list: [10, 20, 30, 40, 50]\n",
      "tuple: (10, 20, 30, 40, 50)\n"
     ]
    }
   ],
   "source": [
    "my_list = [10, 20, 30, 40, 50]\n",
    "my_tuple = tuple(my_list)\n",
    "print(\"list:\", my_list)\n",
    "print(\"tuple:\", my_tuple)"
   ]
  },
  {
   "cell_type": "markdown",
   "id": "5187c956-c93c-4dd5-b4ce-3d11503d9745",
   "metadata": {},
   "source": [
    "9. unpack the elements of a tuple into variables."
   ]
  },
  {
   "cell_type": "code",
   "execution_count": 39,
   "id": "5ea7325d-6ccc-453d-bae1-54eea58b788c",
   "metadata": {},
   "outputs": [
    {
     "name": "stdout",
     "output_type": "stream",
     "text": [
      "var1: 10\n",
      "var2: 20\n",
      "var3: 30\n"
     ]
    }
   ],
   "source": [
    "my_tuple = (10, 20, 30)\n",
    "var1, var2, var3 = my_tuple\n",
    "print(\"var1:\", var1)\n",
    "print(\"var2:\", var2)\n",
    "print(\"var3:\", var3)\n",
    "      "
   ]
  },
  {
   "cell_type": "markdown",
   "id": "157f8a84-fe3d-4e93-a870-73a04553a08a",
   "metadata": {},
   "source": [
    "10. create a tuple of even numbers from 1 to 10. "
   ]
  },
  {
   "cell_type": "code",
   "execution_count": 40,
   "id": "5bc88a31-8543-4c2e-a893-ab766cd9e6e1",
   "metadata": {},
   "outputs": [
    {
     "name": "stdout",
     "output_type": "stream",
     "text": [
      "tuple of even numbers: (2, 4, 6, 8, 10)\n"
     ]
    }
   ],
   "source": [
    "even_numbers_list = [num for num in range(2,11,2)]\n",
    "even_numbers_tuple = tuple(even_numbers_list)\n",
    "print(\"tuple of even numbers:\", even_numbers_tuple)"
   ]
  },
  {
   "cell_type": "markdown",
   "id": "6a9a56db-b5fc-40ca-8dd0-726eeeb9a026",
   "metadata": {},
   "source": [
    "11.  create a tuple of odd numbers from 1 to 10."
   ]
  },
  {
   "cell_type": "code",
   "execution_count": 41,
   "id": "62693d94-612a-42e5-9ea9-5350814a4174",
   "metadata": {},
   "outputs": [
    {
     "name": "stdout",
     "output_type": "stream",
     "text": [
      "tuple of even numbers: (2, 4, 6, 8, 10)\n"
     ]
    }
   ],
   "source": [
    "even_numbers_list = [num for num in range(2,11,2)]\n",
    "even_numbers_tuple = tuple(even_numbers_list)\n",
    "print(\"tuple of even numbers:\", even_numbers_tuple)"
   ]
  },
  {
   "cell_type": "markdown",
   "id": "526dcb5d-7a57-424f-b1c3-20ec378af01d",
   "metadata": {},
   "source": [
    "12.  concatenate two tuples."
   ]
  },
  {
   "cell_type": "code",
   "execution_count": 42,
   "id": "f5a020e8-4389-4553-b527-1a23df8d5f8b",
   "metadata": {},
   "outputs": [
    {
     "name": "stdout",
     "output_type": "stream",
     "text": [
      "concatenated tuple: (1, 2, 3, 4, 5, 6)\n"
     ]
    }
   ],
   "source": [
    "tuple1 = (1, 2, 3)\n",
    "tuple2 = (4, 5, 6)\n",
    "\n",
    "concatenated_tuple = tuple1 + tuple2\n",
    "print(\"concatenated tuple:\", concatenated_tuple)"
   ]
  },
  {
   "cell_type": "markdown",
   "id": "caf81d7c-2f9c-4708-96ba-bda09bc67fcb",
   "metadata": {},
   "source": [
    "13. repeat a tuple three times."
   ]
  },
  {
   "cell_type": "code",
   "execution_count": 43,
   "id": "92a1336f-055c-4f3a-996f-4c9061d0fd0e",
   "metadata": {},
   "outputs": [
    {
     "name": "stdout",
     "output_type": "stream",
     "text": [
      "repeated tuple: (1, 2, 3, 1, 2, 3, 1, 2, 3)\n"
     ]
    }
   ],
   "source": [
    "original_tuple = (1, 2, 3)\n",
    "repeated_tuple = original_tuple * 3\n",
    "print(\"repeated tuple:\", repeated_tuple)"
   ]
  },
  {
   "cell_type": "markdown",
   "id": "0c23507c-538e-46d8-86a8-0eeec65338eb",
   "metadata": {},
   "source": [
    "14. check if a tuple is empty."
   ]
  },
  {
   "cell_type": "code",
   "execution_count": 48,
   "id": "f7720028-6ebd-471c-989f-4c9b144e1cc6",
   "metadata": {},
   "outputs": [
    {
     "name": "stdout",
     "output_type": "stream",
     "text": [
      "the empty_tuple is empty.\n",
      "the non_empty_tuple is not empty.\n"
     ]
    }
   ],
   "source": [
    "empty_tuple = ()\n",
    "non_empty_tuple = (1, 2, 3)\n",
    "if not empty_tuple:\n",
    "    print(\"the empty_tuple is empty.\")\n",
    "else:\n",
    "    print(\"the empty_tuple is not empty.\")\n",
    "if not non_empty_tuple:\n",
    "    print(\"the non_empty_tuple is empty.\")\n",
    "else:\n",
    "    print(\"the non_empty_tuple is not empty.\")\n",
    "    \n"
   ]
  },
  {
   "cell_type": "markdown",
   "id": "fcc69099-1d81-4fe0-a457-07b98a81b5db",
   "metadata": {},
   "source": [
    "15. create a nested tuple. "
   ]
  },
  {
   "cell_type": "code",
   "execution_count": 49,
   "id": "39f0dac0-8a71-42b0-bc11-823b1eea3472",
   "metadata": {},
   "outputs": [
    {
     "name": "stdout",
     "output_type": "stream",
     "text": [
      "nested tuple: ((1, 2, 3), ('a', 'b', 'c'), (True, False))\n"
     ]
    }
   ],
   "source": [
    "nested_tuple = ((1, 2, 3),('a','b','c'),(True, False))\n",
    "print(\"nested tuple:\", nested_tuple)"
   ]
  },
  {
   "cell_type": "markdown",
   "id": "f31d4e59-c505-46b8-bf61-2200c4b4c70f",
   "metadata": {},
   "source": [
    "16. access the first element of a nested tuple."
   ]
  },
  {
   "cell_type": "code",
   "execution_count": 51,
   "id": "72a28d87-e4a7-4df5-a754-129575e21357",
   "metadata": {},
   "outputs": [
    {
     "name": "stdout",
     "output_type": "stream",
     "text": [
      "(1, 2, 3)\n"
     ]
    }
   ],
   "source": [
    "nested_tuple = ((1, 2, 3),('a','b','c'),(True, False))\n",
    "first_element = nested_tuple[0]\n",
    "print(first_element)"
   ]
  },
  {
   "cell_type": "markdown",
   "id": "e55c71c1-fc58-41f2-9c3f-1e021eb6cdd7",
   "metadata": {},
   "source": [
    "17. create a tuple with a single element."
   ]
  },
  {
   "cell_type": "code",
   "execution_count": 52,
   "id": "ca021660-aee2-408e-bec7-83443913937a",
   "metadata": {},
   "outputs": [
    {
     "name": "stdout",
     "output_type": "stream",
     "text": [
      "single element tuple: 42\n"
     ]
    }
   ],
   "source": [
    "single_element_tuple = (42)\n",
    "print(\"single element tuple:\", single_element_tuple)"
   ]
  },
  {
   "cell_type": "markdown",
   "id": "7e3ef04c-f64b-4c80-a5fb-10b2f830eb10",
   "metadata": {},
   "source": [
    "18. compare two tuples."
   ]
  },
  {
   "cell_type": "code",
   "execution_count": 54,
   "id": "48169bed-ea54-45f9-b888-716948d1ecaa",
   "metadata": {},
   "outputs": [
    {
     "name": "stdout",
     "output_type": "stream",
     "text": [
      "tuple1 == tuple2: False\n",
      "tuple1 != tuple2: True\n",
      "tuple1 < tuple2: True\n",
      "tuple1 <= tuple2: True\n",
      "tuple1 > tuple2: False\n",
      "tuple1 >= tuple2: False\n"
     ]
    }
   ],
   "source": [
    "tuple1 = (1, 2, 3)\n",
    "tuple2 = (1, 2, 4)\n",
    "print(\"tuple1 == tuple2:\", tuple1 == tuple2)  #  equality check\n",
    "print(\"tuple1 != tuple2:\", tuple1 != tuple2)  #  inequality check\n",
    "print(\"tuple1 < tuple2:\", tuple1 < tuple2)  #  less than check\n",
    "print(\"tuple1 <= tuple2:\", tuple1 <= tuple2)  #  less than or equal to check \n",
    "print(\"tuple1 > tuple2:\", tuple1 > tuple2)  #  greater than check\n",
    "print(\"tuple1 >= tuple2:\", tuple1 >= tuple2)  #  greater than or equal check"
   ]
  },
  {
   "cell_type": "markdown",
   "id": "6f1ce4f2-ad07-488f-8959-84334997b495",
   "metadata": {},
   "source": [
    "    19. Delete a tuple."
   ]
  },
  {
   "cell_type": "code",
   "execution_count": 56,
   "id": "7acd6f7f-eefb-49a5-ab74-6207783fba14",
   "metadata": {},
   "outputs": [],
   "source": [
    "my_tuple = (1, 2, 3, 4, 5)"
   ]
  },
  {
   "cell_type": "code",
   "execution_count": 57,
   "id": "da31e2fd-782e-4ab8-8f51-1949ed85cd87",
   "metadata": {},
   "outputs": [
    {
     "data": {
      "text/plain": [
       "(1, 2, 3, 4, 5)"
      ]
     },
     "execution_count": 57,
     "metadata": {},
     "output_type": "execute_result"
    }
   ],
   "source": [
    "my_tuple"
   ]
  },
  {
   "cell_type": "code",
   "execution_count": 58,
   "id": "1ec18eef-3430-4f27-923c-afbf452ff2ee",
   "metadata": {},
   "outputs": [],
   "source": [
    "del my_tuple"
   ]
  },
  {
   "cell_type": "code",
   "execution_count": 59,
   "id": "3ae42367-7259-4dc4-aebb-5295d5758927",
   "metadata": {},
   "outputs": [
    {
     "ename": "NameError",
     "evalue": "name 'my_tuple' is not defined",
     "output_type": "error",
     "traceback": [
      "\u001b[0;31m---------------------------------------------------------------------------\u001b[0m",
      "\u001b[0;31mNameError\u001b[0m                                 Traceback (most recent call last)",
      "Cell \u001b[0;32mIn[59], line 1\u001b[0m\n\u001b[0;32m----> 1\u001b[0m \u001b[38;5;28mprint\u001b[39m(\u001b[43mmy_tuple\u001b[49m)\n",
      "\u001b[0;31mNameError\u001b[0m: name 'my_tuple' is not defined"
     ]
    }
   ],
   "source": [
    "print(my_tuple)"
   ]
  },
  {
   "cell_type": "markdown",
   "id": "9a2ab03e-42b3-4cd2-8a6b-6a86c8556868",
   "metadata": {},
   "source": [
    "    20.  slice a tuple."
   ]
  },
  {
   "cell_type": "code",
   "execution_count": 60,
   "id": "162b96a5-73dc-4d33-9714-018b6450c1db",
   "metadata": {},
   "outputs": [
    {
     "name": "stdout",
     "output_type": "stream",
     "text": [
      "sliced tuple: (3, 4, 5, 6)\n"
     ]
    }
   ],
   "source": [
    "my_tuple = (1, 2, 3, 4, 5, 6, 7, 8, 9, 10)\n",
    "sliced_tuple = my_tuple[2:6]\n",
    "print(\"sliced tuple:\", sliced_tuple)"
   ]
  },
  {
   "cell_type": "markdown",
   "id": "31bd8504-50d1-4fe4-a87a-66baf4549532",
   "metadata": {},
   "source": [
    "    21. find the maximun value in a tuple."
   ]
  },
  {
   "cell_type": "code",
   "execution_count": 63,
   "id": "ee2e9d80-38c0-485b-bc48-b2e989d746dd",
   "metadata": {},
   "outputs": [
    {
     "name": "stdout",
     "output_type": "stream",
     "text": [
      "maximum value: 100\n"
     ]
    }
   ],
   "source": [
    "my_tuple = (10, 20, 50, 80, 100)\n",
    "max_value =max(my_tuple)\n",
    "print(\"maximum value:\", max_value)"
   ]
  },
  {
   "cell_type": "markdown",
   "id": "34713a98-fb88-4693-a8af-697cfca49652",
   "metadata": {},
   "source": [
    "    22.  find the minimum value in aetuple.  "
   ]
  },
  {
   "cell_type": "code",
   "execution_count": 64,
   "id": "666e9f1f-83c5-4e4c-a992-d0b18d4f9e80",
   "metadata": {},
   "outputs": [
    {
     "name": "stdout",
     "output_type": "stream",
     "text": [
      "minimum value: 10\n"
     ]
    }
   ],
   "source": [
    "my_tuple = (500, 100, 300, 50, 10)\n",
    "min_value = min(my_tuple)\n",
    "print(\"minimum value:\", min_value)"
   ]
  },
  {
   "cell_type": "markdown",
   "id": "1cf39130-9ce5-414a-b5ad-d9aca2418cb0",
   "metadata": {},
   "source": [
    "    23.  convert a string to a tuple of charecters.  "
   ]
  },
  {
   "cell_type": "code",
   "execution_count": 65,
   "id": "9da40d84-2952-4f3b-9ba3-e78680656173",
   "metadata": {},
   "outputs": [
    {
     "name": "stdout",
     "output_type": "stream",
     "text": [
      "tuple of characters: ('h', 'e', 'l', 'l', 'o', ',', ' ', 'w', 'o', 'r', 'l', 'd', '!')\n"
     ]
    }
   ],
   "source": [
    "my_string = (\"hello, world!\")\n",
    "tuple_of_characters = tuple(my_string)\n",
    "print(\"tuple of characters:\", tuple_of_characters)"
   ]
  },
  {
   "cell_type": "markdown",
   "id": "7879b297-0eca-474e-b802-6caaf536caef",
   "metadata": {},
   "source": [
    "    24. convert a tuple of characters to a string."
   ]
  },
  {
   "cell_type": "code",
   "execution_count": 67,
   "id": "065c6429-f843-4b78-95db-8bb9581d848c",
   "metadata": {},
   "outputs": [
    {
     "name": "stdout",
     "output_type": "stream",
     "text": [
      "string from tuple: hello, world!\n"
     ]
    }
   ],
   "source": [
    "tuple_of_characters = ('h', 'e', 'l', 'l', 'o', ',', ' ', 'w', 'o', 'r', 'l', 'd', '!')\n",
    "string_from_tuple = ''.join(tuple_of_characters)\n",
    "print(\"string from tuple:\", string_from_tuple)"
   ]
  },
  {
   "cell_type": "markdown",
   "id": "33073ad9-7b08-47aa-b0ce-054cf9133f48",
   "metadata": {},
   "source": [
    "    25. create a tuple from multiple data types."
   ]
  },
  {
   "cell_type": "code",
   "execution_count": 68,
   "id": "e3a0e720-699a-482d-a36a-4e2a0ba3079a",
   "metadata": {},
   "outputs": [
    {
     "name": "stdout",
     "output_type": "stream",
     "text": [
      "(1, 'hello', 3.14, True)\n"
     ]
    }
   ],
   "source": [
    "mixed_tuple = (1, \"hello\", 3.14, True)\n",
    "print(mixed_tuple)"
   ]
  },
  {
   "cell_type": "markdown",
   "id": "c277e182-2946-44b2-bda0-7dc223a8bd29",
   "metadata": {},
   "source": [
    "    26. check if two tuples are identical."
   ]
  },
  {
   "cell_type": "code",
   "execution_count": 69,
   "id": "fe51fa61-2f78-40ff-a510-3c7621499c14",
   "metadata": {},
   "outputs": [
    {
     "name": "stdout",
     "output_type": "stream",
     "text": [
      "tuple1 and tuple2 are identical: True\n",
      "tuple1 and tuple3 are identica;: False\n"
     ]
    }
   ],
   "source": [
    "tuple1 = (1, 2, 3)\n",
    "tuple2 = (1, 2, 3)\n",
    "tuple3 = (4, 5, 6)\n",
    "are_identical1 = tuple1 == tuple2\n",
    "are_identical2 = tuple1 == tuple3\n",
    "print(\"tuple1 and tuple2 are identical:\", are_identical1)\n",
    "print(\"tuple1 and tuple3 are identica;:\", are_identical2)"
   ]
  },
  {
   "cell_type": "markdown",
   "id": "ef63c66f-f93a-47ef-8b90-0557d43eecbc",
   "metadata": {},
   "source": [
    "    27. sort the element of a tuple."
   ]
  },
  {
   "cell_type": "code",
   "execution_count": 70,
   "id": "25c7213b-2a6f-4f68-922b-4bd4f3ac14ed",
   "metadata": {},
   "outputs": [
    {
     "name": "stdout",
     "output_type": "stream",
     "text": [
      "sorted tuple: (1, 2, 3, 5, 8)\n"
     ]
    }
   ],
   "source": [
    "my_tuple = (5, 2, 8, 1, 3)\n",
    "sorted_tuple = tuple(sorted(my_tuple))\n",
    "print(\"sorted tuple:\", sorted_tuple)"
   ]
  },
  {
   "cell_type": "markdown",
   "id": "b06ade0c-3d9b-4ef3-ae3c-649ad5e7f002",
   "metadata": {},
   "source": [
    "    28. convert a tuple of integers to a tuple of strings."
   ]
  },
  {
   "cell_type": "code",
   "execution_count": 71,
   "id": "bdeec6be-84c3-45c4-9175-8dd6414a858e",
   "metadata": {},
   "outputs": [
    {
     "name": "stdout",
     "output_type": "stream",
     "text": [
      "tuple of strings: ('1', '2', '3', '4', '5')\n"
     ]
    }
   ],
   "source": [
    "tuple_of_integers = (1, 2, 3, 4, 5)\n",
    "tuple_of_strings = tuple(str(item) for item in tuple_of_integers)\n",
    "print(\"tuple of strings:\", tuple_of_strings)"
   ]
  },
  {
   "cell_type": "markdown",
   "id": "7ef75159-21a6-486f-8447-dc8fe21eee2c",
   "metadata": {},
   "source": [
    "    29. convert a tuple of strings to a tuple of integers."
   ]
  },
  {
   "cell_type": "code",
   "execution_count": 72,
   "id": "783367de-0036-4960-aebc-8cd2c2fded15",
   "metadata": {},
   "outputs": [
    {
     "name": "stdout",
     "output_type": "stream",
     "text": [
      "tuple of integers: (10, 20, 30, 40, 50)\n"
     ]
    }
   ],
   "source": [
    "tuple_of_strings = ('10', '20', '30', '40', '50')\n",
    "tuple_of_integers = tuple(int(item) for item in tuple_of_strings)\n",
    "print(\"tuple of integers:\", tuple_of_integers)"
   ]
  },
  {
   "cell_type": "markdown",
   "id": "95539d09-8ce5-4bd8-adfb-891e85e2fb6a",
   "metadata": {},
   "source": [
    "    30.  merge two tuples."
   ]
  },
  {
   "cell_type": "code",
   "execution_count": 74,
   "id": "bb4c5cac-b69c-41a9-ae28-01fee34af879",
   "metadata": {},
   "outputs": [
    {
     "name": "stdout",
     "output_type": "stream",
     "text": [
      "merged tuple: (1, 2, 3, 4, 5, 6)\n"
     ]
    }
   ],
   "source": [
    "tuple1 = (1, 2, 3)\n",
    "tuple2 = (4, 5, 6)\n",
    "merged_tuple = tuple1 + tuple2\n",
    "print(\"merged tuple:\", merged_tuple)"
   ]
  },
  {
   "cell_type": "markdown",
   "id": "063476ae-6aca-47dc-aad3-bf003cfcedf1",
   "metadata": {},
   "source": [
    "    31. flatten a nested tuple."
   ]
  },
  {
   "cell_type": "code",
   "execution_count": 12,
   "id": "60cd8fd5-931d-4797-94e8-a72d7343329f",
   "metadata": {},
   "outputs": [
    {
     "name": "stdout",
     "output_type": "stream",
     "text": [
      "Flattened tuple: (1, 2, 3, 4, 5, 6, 7, 8)\n"
     ]
    }
   ],
   "source": [
    "def flatten_tuple(nested_tuple):\n",
    "    flattened = []\n",
    "    for item in nested_tuple:\n",
    "        if isinstance(item, tuple):\n",
    "            flattened.extend(flatten_tuple(item))\n",
    "        else:\n",
    "            flattened.append(item)\n",
    "    return flattened\n",
    "\n",
    "# Step 1: Create a nested tuple\n",
    "nested_tuple = ((1, 2), (3, 4, 5), (6, (7, 8)))\n",
    "\n",
    "# Step 2: Flatten the nested tuple\n",
    "flattened_tuple = tuple(flatten_tuple(nested_tuple))\n",
    "\n",
    "# Step 3: Print the flattened tuple\n",
    "print(\"Flattened tuple:\", flattened_tuple)"
   ]
  },
  {
   "cell_type": "markdown",
   "id": "d0fb9f8a-7c22-4a99-ac4e-f60a088faefd",
   "metadata": {},
   "source": [
    "     32.  create a tuple of the first 5 prime numbers. "
   ]
  },
  {
   "cell_type": "code",
   "execution_count": 20,
   "id": "9ec0f8a5-f963-48a4-99e2-f9365e2e5902",
   "metadata": {},
   "outputs": [
    {
     "name": "stdout",
     "output_type": "stream",
     "text": [
      "tuple of the first 5 prime numbers: (2, 3, 5, 7, 11)\n"
     ]
    }
   ],
   "source": [
    "def is_prime(num):\n",
    "    if num <= 1:\n",
    "        return False\n",
    "    for i in range (2, int(num ** 0.5) + 1):\n",
    "        if num % i == 0:\n",
    "            return False\n",
    "    return True\n",
    "    \n",
    "prime_numbers_list = [num for num in  range(2,100) if is_prime(num)][:5]\n",
    "\n",
    "prime_numbers_tuple = tuple(prime_numbers_list)\n",
    "\n",
    "print(\"tuple of the first 5 prime numbers:\", prime_numbers_tuple)\n",
    "    \n",
    "    "
   ]
  },
  {
   "cell_type": "markdown",
   "id": "05c9b3aa-6464-4cb6-8484-b3690da1553c",
   "metadata": {},
   "source": [
    "      33. check if a tuple is a palindrome."
   ]
  },
  {
   "cell_type": "code",
   "execution_count": 22,
   "id": "8708814c-240d-44f3-939e-7a4973365418",
   "metadata": {},
   "outputs": [
    {
     "name": "stdout",
     "output_type": "stream",
     "text": [
      "palindrome_tuple is a palindrome: True\n",
      "non palindrome tuple is a palindrome: False\n"
     ]
    }
   ],
   "source": [
    "def is_palindrome(tup):\n",
    "    return tup == tup[::-1]\n",
    "\n",
    "palindrome_tuple = (1,2,3,2,1)\n",
    "non_palindrome_tuple = (1,2,3,4,5)\n",
    "\n",
    "is_palindrome1 = is_palindrome(palindrome_tuple)\n",
    "is_palindrome2 = is_palindrome(non_palindrome_tuple)\n",
    "\n",
    "print(\"palindrome_tuple is a palindrome:\", is_palindrome1)\n",
    "\n",
    "\n",
    "print(\"non palindrome tuple is a palindrome:\", is_palindrome2)"
   ]
  },
  {
   "cell_type": "markdown",
   "id": "93a98543-9c73-4e6b-a219-ca0034ed1492",
   "metadata": {},
   "source": [
    "     34. create a tuple of squares of numbers from 1 to 5."
   ]
  },
  {
   "cell_type": "code",
   "execution_count": 23,
   "id": "d8a53d77-0ca6-4751-9ce3-0d3a58018b5a",
   "metadata": {},
   "outputs": [
    {
     "name": "stdout",
     "output_type": "stream",
     "text": [
      "tuple of squares: (1, 4, 9, 16, 25)\n"
     ]
    }
   ],
   "source": [
    "squares_tuple = tuple(x ** 2 for x in range (1,6))\n",
    "print(\"tuple of squares:\", squares_tuple)"
   ]
  },
  {
   "cell_type": "markdown",
   "id": "90cce322-3019-4d39-b89f-4e49260db4fb",
   "metadata": {},
   "source": [
    "     35. filter out all even numbers from a tuple."
   ]
  },
  {
   "cell_type": "code",
   "execution_count": 24,
   "id": "2d1ad84d-8d3a-4aee-afb9-92347976a6bc",
   "metadata": {},
   "outputs": [
    {
     "name": "stdout",
     "output_type": "stream",
     "text": [
      " filtered tuple: (1, 3, 5, 7, 9)\n"
     ]
    }
   ],
   "source": [
    "original_tuple = (1, 2, 3, 4, 5, 6, 7, 8, 9, 10)\n",
    "filtered_tuple = tuple(num for num in original_tuple if num % 2 != 0)\n",
    "print(\" filtered tuple:\", filtered_tuple)"
   ]
  },
  {
   "cell_type": "markdown",
   "id": "0b448421-5b12-4fde-8ca9-9d7497f74ee7",
   "metadata": {},
   "source": [
    "      36. multiply all elements in a tuple by 2."
   ]
  },
  {
   "cell_type": "code",
   "execution_count": 26,
   "id": "34dc16f8-c52d-44ec-ae3e-a4c8d2a2d94b",
   "metadata": {},
   "outputs": [
    {
     "name": "stdout",
     "output_type": "stream",
     "text": [
      "doubled tuple: (2, 4, 6, 8, 10)\n"
     ]
    }
   ],
   "source": [
    "original_tuple = (1, 2, 3, 4, 5)\n",
    "doubled_tuple = tuple(num * 2 for num in original_tuple)\n",
    "\n",
    "print(\"doubled tuple:\", doubled_tuple)"
   ]
  },
  {
   "cell_type": "markdown",
   "id": "182eb4fa-c6e6-4605-b958-61cb9a14cf82",
   "metadata": {},
   "source": [
    "    37. crate a tuple of random number."
   ]
  },
  {
   "cell_type": "code",
   "execution_count": 30,
   "id": "b64de7f3-c6bc-44f1-98e5-61a9a140ab8b",
   "metadata": {},
   "outputs": [
    {
     "name": "stdout",
     "output_type": "stream",
     "text": [
      "Random tuple: (31, 47, 71, 6, 61, 28, 82, 53, 5, 65)\n"
     ]
    }
   ],
   "source": [
    "import random\n",
    "\n",
    "random_tuple = tuple(random.randint(1, 100) for _ in range (10))\n",
    "\n",
    "print(\"Random tuple:\", random_tuple)\n"
   ]
  },
  {
   "cell_type": "markdown",
   "id": "c0dfd00d-030e-45f2-8664-fb76fbaf1a7f",
   "metadata": {},
   "source": [
    "    38. check if a tuple is sorted."
   ]
  },
  {
   "cell_type": "code",
   "execution_count": 31,
   "id": "e712d9c4-d6b4-4a68-88e7-2081638403af",
   "metadata": {},
   "outputs": [
    {
     "name": "stdout",
     "output_type": "stream",
     "text": [
      "sorted_tuple is sorted: True\n",
      "unsorted_tuple is sorted: False\n"
     ]
    }
   ],
   "source": [
    "def is_sorted(tup):\n",
    "    for i in range(len(tup) -1):\n",
    "        if tup[i] > tup[i + 1]:\n",
    "            return False\n",
    "        return True\n",
    "    \n",
    "sorted_tuple = (1, 2, 3, 4, 5)\n",
    "unsorted_tuple = (5, 3, 1, 4, 2)\n",
    "is_sorted1 = is_sorted(sorted_tuple)\n",
    "is_sorted2 = is_sorted(unsorted_tuple)\n",
    "\n",
    "print(\"sorted_tuple is sorted:\", is_sorted1)\n",
    "\n",
    "print(\"unsorted_tuple is sorted:\", is_sorted2)\n"
   ]
  },
  {
   "cell_type": "markdown",
   "id": "2e12b10f-5472-4726-84b1-c3d2587b3d16",
   "metadata": {},
   "source": [
    "    39. Rotate a tuple to the left by n positions."
   ]
  },
  {
   "cell_type": "code",
   "execution_count": 34,
   "id": "8ef8ae71-e94e-46ec-9197-f2ade364d5e8",
   "metadata": {},
   "outputs": [
    {
     "name": "stdout",
     "output_type": "stream",
     "text": [
      "(4, 5, 1, 2, 3)\n"
     ]
    }
   ],
   "source": [
    "def rotate_tuple_left(tup,n):\n",
    "    n = n % len(tup)\n",
    "    rotated_tuple = tup[n:] + tup[:n]\n",
    "    return rotated_tuple\n",
    "\n",
    "my_tuple = (1, 2, 3, 4, 5)\n",
    "n_positions = 2\n",
    "result = rotate_tuple_left (my_tuple, n_positions)\n",
    "print(result)"
   ]
  },
  {
   "cell_type": "markdown",
   "id": "e19d679c-afca-4a0a-a1a6-c318e9540698",
   "metadata": {},
   "source": [
    "    40 . rotate a tuple to the right by n positions. "
   ]
  },
  {
   "cell_type": "code",
   "execution_count": 35,
   "id": "5e2ee19e-d905-44e0-b570-1431bbfbb8d1",
   "metadata": {},
   "outputs": [
    {
     "name": "stdout",
     "output_type": "stream",
     "text": [
      "(4, 5, 1, 2, 3)\n"
     ]
    }
   ],
   "source": [
    "def rotate_tuple_right(tup,n):\n",
    "    n = n % len(tup)\n",
    "    rotated_tuple = tup[-n:] + tup[:-n]\n",
    "    return rotated_tuple\n",
    "\n",
    "my_tuple = (1, 2, 3, 4, 5)\n",
    "n_position  = 2\n",
    "result = rotate_tuple_right (my_tuple, n_positions)\n",
    "print(result)"
   ]
  },
  {
   "cell_type": "markdown",
   "id": "fc38977d-008f-45d2-9403-6e95ace5e6e1",
   "metadata": {},
   "source": [
    "    41.  create a tuple of the first 5 fibonacci numbers."
   ]
  },
  {
   "cell_type": "code",
   "execution_count": 39,
   "id": "b78418ee-f2aa-4a3d-b41a-bcc639cdfe8f",
   "metadata": {},
   "outputs": [
    {
     "name": "stdout",
     "output_type": "stream",
     "text": [
      "(0, 1, 1, 2, 3)\n"
     ]
    }
   ],
   "source": [
    "def generate_fibonacci(n):\n",
    "    fibonacci = [0,1]\n",
    "    while len(fibonacci) <n:\n",
    "        next_number = fibonacci[-1] + fibonacci[-2]\n",
    "        fibonacci.append(next_number)\n",
    "    return tuple(fibonacci)\n",
    "\n",
    "fibonacci_tuple = generate_fibonacci(5)\n",
    "print(fibonacci_tuple)\n",
    "        "
   ]
  },
  {
   "cell_type": "markdown",
   "id": "fe12507a-5d8c-48c5-a59f-af4c6703c302",
   "metadata": {},
   "source": [
    "    42.  crate a tuple from user input. "
   ]
  },
  {
   "cell_type": "code",
   "execution_count": 3,
   "id": "752b6099-beb9-4e0f-abe6-fcba32b24d91",
   "metadata": {},
   "outputs": [
    {
     "name": "stdin",
     "output_type": "stream",
     "text": [
      "enter a element separated by comma: s,e,r,,t,y,y,u\n"
     ]
    },
    {
     "name": "stdout",
     "output_type": "stream",
     "text": [
      "user input tuple: ('s', 'e', 'r', '', 't', 'y', 'y', 'u')\n"
     ]
    }
   ],
   "source": [
    "input_str =input(\"enter a element separated by comma:\")\n",
    "input_list = input_str.split(',')\n",
    "user_tuple = tuple(input_list)\n",
    "print(\"user input tuple:\", user_tuple)\n",
    "\n",
    "\n"
   ]
  },
  {
   "cell_type": "markdown",
   "id": "15ea2f14-8774-4411-b0bc-45863ae59a10",
   "metadata": {},
   "source": [
    "43. swap two elements in a tuple."
   ]
  },
  {
   "cell_type": "code",
   "execution_count": 9,
   "id": "57a79c19-c241-4815-979d-666cca5e1fa5",
   "metadata": {},
   "outputs": [
    {
     "name": "stdout",
     "output_type": "stream",
     "text": [
      "swapped tuple: (1, 4, 3, 2, 5)\n"
     ]
    }
   ],
   "source": [
    "my_tuple = (1, 2, 3, 4, 5)\n",
    "index1 = 1\n",
    "index = 2\n",
    "swapped_tuple = tuple(\n",
    "    my_tuple[i] if i not in (index1 ,index2) else\n",
    "    my_tuple[index2] if i == index1 else\n",
    "    my_tuple[index1]\n",
    "    for i in range (len(my_tuple))\n",
    ")\n",
    "print(\"swapped tuple:\", swapped_tuple)\n",
    "    "
   ]
  },
  {
   "cell_type": "markdown",
   "id": "471a6266-80e2-417b-91d8-b98f0e8c30e5",
   "metadata": {},
   "source": [
    "   44.  reverse the elements of a tuple.      "
   ]
  },
  {
   "cell_type": "code",
   "execution_count": 10,
   "id": "6e213da1-3852-45b7-a39a-c55351f5eb23",
   "metadata": {},
   "outputs": [
    {
     "name": "stdout",
     "output_type": "stream",
     "text": [
      "Reversed tuple: (5, 4, 3, 2, 1)\n"
     ]
    }
   ],
   "source": [
    "my_tuple = (1, 2, 3, 4, 5)\n",
    "reversed_tuple = my_tuple[::-1]\n",
    "print(\"Reversed tuple:\", reversed_tuple)"
   ]
  },
  {
   "cell_type": "markdown",
   "id": "41f84af8-9a33-4a8e-b5f8-9ba0ebb984f8",
   "metadata": {},
   "source": [
    "45. create a tuple of the first n powers of 2."
   ]
  },
  {
   "cell_type": "code",
   "execution_count": 12,
   "id": "e183aa82-5377-496a-af57-eb17d7b4b050",
   "metadata": {},
   "outputs": [
    {
     "name": "stdout",
     "output_type": "stream",
     "text": [
      "tuple of the first  5 power of 2: (1, 2, 4, 8, 16)\n"
     ]
    }
   ],
   "source": [
    "n = 5\n",
    "powers_of_2_tuple = tuple(2 ** i for i in range (n))\n",
    "print(\"tuple of the first \", n,\"power of 2:\", powers_of_2_tuple)"
   ]
  },
  {
   "cell_type": "markdown",
   "id": "4d11b518-78a0-4971-b733-ef172e9c2e09",
   "metadata": {},
   "source": [
    "46. find the longest string in a tuple of strings."
   ]
  },
  {
   "cell_type": "code",
   "execution_count": 13,
   "id": "2c422c95-ac58-4c8f-bf54-7455b763486b",
   "metadata": {},
   "outputs": [
    {
     "name": "stdout",
     "output_type": "stream",
     "text": [
      "longest strinhg: watermelon\n"
     ]
    }
   ],
   "source": [
    "string_tuple = (\"apple\", \"banana\", \"grape\", \"kiwi\", \"watermelon\")\n",
    "longest_string = max(string_tuple, key = len)\n",
    "print (\"longest strinhg:\", longest_string)"
   ]
  },
  {
   "cell_type": "markdown",
   "id": "bf237dac-a8a9-46b9-b427-d76934edad52",
   "metadata": {},
   "source": [
    "47. find the shortest string in a tuple of string. "
   ]
  },
  {
   "cell_type": "code",
   "execution_count": 14,
   "id": "3c10a60f-baa8-4e0c-8dfa-23d0d78214f6",
   "metadata": {},
   "outputs": [
    {
     "name": "stdout",
     "output_type": "stream",
     "text": [
      "shortest string: kiwi\n"
     ]
    }
   ],
   "source": [
    "string_tuple = (\"apple\", \"banana\", \"grape\", \"kiwi\", \"watermelon\")\n",
    "shortest_string = min(string_tuple, key = len)\n",
    "print(\"shortest string:\", shortest_string)"
   ]
  },
  {
   "cell_type": "markdown",
   "id": "4e8280f5-bc6f-4266-9bb0-5d86eccacc74",
   "metadata": {},
   "source": [
    "48. create a tuple of the first n triangular numbers."
   ]
  },
  {
   "cell_type": "code",
   "execution_count": 16,
   "id": "90cba63b-7f0c-4e64-9244-36a910f9954b",
   "metadata": {},
   "outputs": [
    {
     "name": "stdout",
     "output_type": "stream",
     "text": [
      "tuple of the first  5 triangular numbers: (1, 3, 6, 10, 15)\n"
     ]
    }
   ],
   "source": [
    "n = 5\n",
    "triangular_number_tuple = tuple(i * (i + 1)// 2 for i in range (1,n+1))\n",
    "\n",
    "print(\"tuple of the first \", n, \"triangular numbers:\", triangular_number_tuple)\n",
    "                                "
   ]
  },
  {
   "cell_type": "markdown",
   "id": "3394493f-8d13-4f53-a2aa-12a2842c00ea",
   "metadata": {},
   "source": [
    "    49. check if a tuple contains another tuple as a subsequence."
   ]
  },
  {
   "cell_type": "code",
   "execution_count": 1,
   "id": "9016a18e-a04e-4461-92a7-6c7e284c2681",
   "metadata": {},
   "outputs": [
    {
     "name": "stdout",
     "output_type": "stream",
     "text": [
      "main tuple contains subsequence tuple: True\n"
     ]
    }
   ],
   "source": [
    "def contains_subsequence(main_tuple, sub_tuple):\n",
    "    sub_length = len(sub_tuple)\n",
    "    for i in range (len(main_tuple) - sub_length + 1):\n",
    "        if main_tuple[i:i + sub_length] == sub_tuple:\n",
    "            return True\n",
    "    return False\n",
    "\n",
    "main_tuple = (1, 2, 3, 4, 5, 6, 7, 8, 9, 10)\n",
    "sub_tuple = (3, 4, 5)\n",
    "contains_subseq = contains_subsequence(main_tuple, sub_tuple)\n",
    "print(\"main tuple contains subsequence tuple:\", contains_subseq)\n",
    "            "
   ]
  },
  {
   "cell_type": "markdown",
   "id": "4e993ee4-b242-4ab7-b3b1-ec706b2bf07b",
   "metadata": {},
   "source": [
    "    50. create a tuple of alternating is and 0s of length n."
   ]
  },
  {
   "cell_type": "code",
   "execution_count": 6,
   "id": "8cfce88e-22ce-4158-9bb9-3cad70024f84",
   "metadata": {},
   "outputs": [
    {
     "name": "stdout",
     "output_type": "stream",
     "text": [
      "tuple of % alternating is and 0s: (0, 1, 0, 1, 0, 1, 0, 1, 0, 1)\n"
     ]
    }
   ],
   "source": [
    "n = 10\n",
    "alternating_tuple = tuple(i % 2 for i in range(n))\n",
    "print(\"tuple of % alternating is and 0s:\", alternating_tuple)"
   ]
  },
  {
   "cell_type": "markdown",
   "id": "5811bbfd-99a7-485a-bf17-d1f09fb6ce51",
   "metadata": {},
   "source": [
    "                                  set based problems:   "
   ]
  },
  {
   "cell_type": "markdown",
   "id": "539eb376-ffcf-4d56-97c7-eb17978ae96a",
   "metadata": {},
   "source": [
    "     1.create a set with integer from 1 to 5.  "
   ]
  },
  {
   "cell_type": "code",
   "execution_count": 7,
   "id": "19592be3-534d-4143-8f00-eed1a3fd3a44",
   "metadata": {},
   "outputs": [
    {
     "name": "stdout",
     "output_type": "stream",
     "text": [
      "{1, 2, 3, 4, 5}\n"
     ]
    }
   ],
   "source": [
    "my_set = set()\n",
    "my_set.add(1)\n",
    "my_set.add(2)\n",
    "my_set.add(3)\n",
    "my_set.add(4)\n",
    "my_set.add(5)\n",
    "print(my_set)"
   ]
  },
  {
   "cell_type": "markdown",
   "id": "e53a5012-dd3a-4762-9ca9-a1dbe22b71dd",
   "metadata": {},
   "source": [
    "     2. Add an element to a set."
   ]
  },
  {
   "cell_type": "code",
   "execution_count": 11,
   "id": "a6018b5c-94ad-48b5-89de-1aa08a903555",
   "metadata": {},
   "outputs": [
    {
     "name": "stdout",
     "output_type": "stream",
     "text": [
      "original set: {1, 2, 3, 4, 5}\n",
      "set after adding element: {1, 2, 3, 4, 5, 6}\n"
     ]
    }
   ],
   "source": [
    "my_set = {1,2,3,4,5}\n",
    "print(\"original set:\", my_set)\n",
    "element_to_add = 6\n",
    "my_set.add(element_to_add)\n",
    "print(\"set after adding element:\", my_set)"
   ]
  },
  {
   "cell_type": "markdown",
   "id": "d2343a4a-5a25-450d-96ae-c4620165e18f",
   "metadata": {},
   "source": [
    "      3.remove an element from a set."
   ]
  },
  {
   "cell_type": "code",
   "execution_count": 12,
   "id": "d65182ed-3639-4126-ba17-4206c3214eaf",
   "metadata": {},
   "outputs": [
    {
     "name": "stdout",
     "output_type": "stream",
     "text": [
      "set after adding element: {1, 2, 3, 4, 5}\n",
      "set after removing 3 : {1, 2, 4, 5}\n"
     ]
    }
   ],
   "source": [
    "my_set = {1,2,3,4,5}\n",
    "print(\"set after adding element:\", my_set)\n",
    "element_to_remove = 3\n",
    "my_set.remove(element_to_remove)\n",
    "print(\"set after removing\", element_to_remove,\":\", my_set)"
   ]
  },
  {
   "cell_type": "markdown",
   "id": "725a2532-2327-4862-b76d-32b7fdf38f8d",
   "metadata": {},
   "source": [
    "     4. check if an element exists in a set."
   ]
  },
  {
   "cell_type": "code",
   "execution_count": 19,
   "id": "e28ece7b-aac2-46b2-8660-6f63af814431",
   "metadata": {},
   "outputs": [
    {
     "name": "stdin",
     "output_type": "stream",
     "text": [
      "enter the element to check: 10\n"
     ]
    },
    {
     "name": "stdout",
     "output_type": "stream",
     "text": [
      "10 does not exists in the set.\n"
     ]
    }
   ],
   "source": [
    "my_set = {1,3,5,7,9}\n",
    "element_to_check = int(input(\"enter the element to check:\"))\n",
    "if element_to_check in my_set:\n",
    "                       \n",
    "    print(f\"{element_to_check} exists in the set.\")\n",
    "else:\n",
    "    print(f\"{element_to_check} does not exists in the set.\")                   \n",
    "                       "
   ]
  },
  {
   "cell_type": "markdown",
   "id": "f4d08d70-5824-434a-82d4-658510c07654",
   "metadata": {},
   "source": [
    "    5. find the length of a set without using the len() function"
   ]
  },
  {
   "cell_type": "code",
   "execution_count": 21,
   "id": "ba42e28f-6959-49f7-9ee1-6e5c733427ca",
   "metadata": {},
   "outputs": [
    {
     "name": "stdout",
     "output_type": "stream",
     "text": [
      "length of the set: 5\n"
     ]
    }
   ],
   "source": [
    "my_set = {1,2,3,4,5}\n",
    "count = 0\n",
    "for _ in my_set:\n",
    "    count += 1\n",
    "print(\"length of the set:\", count)    "
   ]
  },
  {
   "cell_type": "markdown",
   "id": "39477334-d5c3-4401-89b1-5889b9919e87",
   "metadata": {},
   "source": [
    "      6. clear all elements from a set."
   ]
  },
  {
   "cell_type": "code",
   "execution_count": 22,
   "id": "b74ae3f5-4fc1-4c4f-bf07-7ef6b95f9fbb",
   "metadata": {},
   "outputs": [
    {
     "name": "stdout",
     "output_type": "stream",
     "text": [
      "original set: {1, 2, 3, 4, 5}\n",
      "set after clearing: set()\n"
     ]
    }
   ],
   "source": [
    "my_set = {1,2,3,4,5}\n",
    "print(\"original set:\", my_set)\n",
    "\n",
    "my_set.clear()\n",
    "print(\"set after clearing:\", my_set)"
   ]
  },
  {
   "cell_type": "markdown",
   "id": "936a7517-ed25-4afa-bd4e-7ced73f5abc3",
   "metadata": {},
   "source": [
    "    7.  create a set of even numbers from 1 to 10. "
   ]
  },
  {
   "cell_type": "code",
   "execution_count": 29,
   "id": "29705f48-1446-4203-a51b-0e76d25b9dca",
   "metadata": {},
   "outputs": [
    {
     "name": "stdout",
     "output_type": "stream",
     "text": [
      "{2, 4, 6, 8, 10}\n"
     ]
    }
   ],
   "source": [
    "even_numbers_set = set()\n",
    "for num in range(1,11):\n",
    "    if num % 2 == 0:\n",
    "        even_numbers_set.add(num)\n",
    "print(even_numbers_set)    "
   ]
  },
  {
   "cell_type": "markdown",
   "id": "451dc6f5-52a8-46eb-b63b-162ef853afbd",
   "metadata": {},
   "source": [
    "     8. create a set of odd numbers from 1 to 10."
   ]
  },
  {
   "cell_type": "code",
   "execution_count": 31,
   "id": "d57f66fc-42eb-4b52-9041-82e4ddee8139",
   "metadata": {},
   "outputs": [
    {
     "name": "stdout",
     "output_type": "stream",
     "text": [
      "{1, 3, 5, 7, 9}\n"
     ]
    }
   ],
   "source": [
    "odd_numbers_set = set()\n",
    "for num in range(1,11):\n",
    "    if num % 2 != 0:\n",
    "        \n",
    "        odd_numbers_set.add(num)\n",
    "        \n",
    "print(odd_numbers_set)        \n"
   ]
  },
  {
   "cell_type": "markdown",
   "id": "d2bf9cc8-42a6-4c9b-874f-0d5570eca1bb",
   "metadata": {},
   "source": [
    "    9.  find the union of two sets."
   ]
  },
  {
   "cell_type": "code",
   "execution_count": 32,
   "id": "9b98caea-5fc9-454f-a4ff-3e282121b9d7",
   "metadata": {},
   "outputs": [
    {
     "name": "stdout",
     "output_type": "stream",
     "text": [
      "set1: {1, 2, 3, 4, 5}\n",
      "set2: {4, 5, 6, 7, 8}\n",
      "union of set1 and set2: {1, 2, 3, 4, 5, 6, 7, 8}\n"
     ]
    }
   ],
   "source": [
    "set1 = {1,2,3,4,5}\n",
    "set2 = {4,5,6,7,8}\n",
    "\n",
    "union_result = set1.union(set2)\n",
    "print(\"set1:\", set1)\n",
    "print(\"set2:\", set2)\n",
    "print(\"union of set1 and set2:\", union_result)"
   ]
  },
  {
   "cell_type": "markdown",
   "id": "8ed1f57f-8845-4054-8274-7b4d4a6e6e9d",
   "metadata": {},
   "source": [
    "    10. find the intersection of two sets."
   ]
  },
  {
   "cell_type": "code",
   "execution_count": 33,
   "id": "739ef7ad-ef64-476c-829e-89f099a0195c",
   "metadata": {},
   "outputs": [
    {
     "name": "stdout",
     "output_type": "stream",
     "text": [
      "set1: {1, 2, 3, 4, 5}\n",
      "set2: {3, 4, 5, 6, 7}\n",
      "intersection: {3, 4, 5}\n"
     ]
    }
   ],
   "source": [
    "set1 = {1,2,3,4,5}\n",
    "set2 = {3,4,5,6,7}\n",
    "\n",
    "intersection_result = set1.intersection(set2)\n",
    "\n",
    "print(\"set1:\", set1)\n",
    "print(\"set2:\", set2)\n",
    "print(\"intersection:\", intersection_result)"
   ]
  },
  {
   "cell_type": "markdown",
   "id": "27441028-4fd1-4503-84b7-f3d39eb78cb8",
   "metadata": {},
   "source": [
    "    11. find the difference between two sets."
   ]
  },
  {
   "cell_type": "code",
   "execution_count": 34,
   "id": "9401824e-58d3-4721-bf26-dfaf23fabbd3",
   "metadata": {},
   "outputs": [
    {
     "name": "stdout",
     "output_type": "stream",
     "text": [
      "set1: {1, 2, 3, 4, 5}\n",
      "set2: {3, 4, 5, 6, 7}\n",
      "difference: {1, 2}\n"
     ]
    }
   ],
   "source": [
    "set1 = {1,2,3,4,5}\n",
    "set2 = {3,4,5,6,7}\n",
    "difference_set = set1.difference(set2)\n",
    "print(\"set1:\", set1)\n",
    "print(\"set2:\", set2)\n",
    "print(\"difference:\", difference_set)\n"
   ]
  },
  {
   "cell_type": "markdown",
   "id": "3fd7670f-bcac-41c0-8bdc-2a754878053d",
   "metadata": {},
   "source": [
    "    12. check if a set is a subset of another set."
   ]
  },
  {
   "cell_type": "code",
   "execution_count": 37,
   "id": "d3942da2-9c45-4a96-b7a6-39639a428261",
   "metadata": {},
   "outputs": [
    {
     "name": "stdout",
     "output_type": "stream",
     "text": [
      "is set1 a subset of set2: True\n"
     ]
    }
   ],
   "source": [
    "set1 = {1,2,3}\n",
    "set2 = {1,2,3,4,5}\n",
    "is_subset = set1.issubset(set2)\n",
    "print(\"is set1 a subset of set2:\", is_subset)"
   ]
  },
  {
   "cell_type": "markdown",
   "id": "aaf607fd-e9bc-4421-b589-7e7862214fd4",
   "metadata": {},
   "source": [
    "    13.  check if a set is a superset of anotherset."
   ]
  },
  {
   "cell_type": "code",
   "execution_count": 38,
   "id": "cb4c4571-f897-4d66-bf89-75dd6a62c922",
   "metadata": {},
   "outputs": [
    {
     "name": "stdout",
     "output_type": "stream",
     "text": [
      "set1 is a superset of set2.\n"
     ]
    }
   ],
   "source": [
    "set1 = {1,2,3,4,5}\n",
    "set2 = {3,4}\n",
    "is_superset = set1.issuperset(set2)\n",
    "if is_superset:\n",
    "    print(\"set1 is a superset of set2.\")\n",
    "else:\n",
    "    print(\"set1 is not a superset of set2.\")"
   ]
  },
  {
   "cell_type": "markdown",
   "id": "18e6d444-7623-4d21-9246-b87fd18ae2c2",
   "metadata": {},
   "source": [
    "     14. create a set from a list."
   ]
  },
  {
   "cell_type": "code",
   "execution_count": 40,
   "id": "18b5696a-c12b-4ba1-9721-7885e43d80c3",
   "metadata": {},
   "outputs": [
    {
     "name": "stdout",
     "output_type": "stream",
     "text": [
      "original list: [2, 4, 1, 4, 3, 2, 5]\n",
      "set from list: {1, 2, 3, 4, 5}\n"
     ]
    }
   ],
   "source": [
    "my_list = [2,4,1,4,3,2,5]\n",
    "my_set = set(my_list)\n",
    "print(\"original list:\", my_list)\n",
    "print(\"set from list:\", my_set)"
   ]
  },
  {
   "cell_type": "markdown",
   "id": "73029d92-710e-4a5a-919c-171ab3fbfa76",
   "metadata": {},
   "source": [
    "     15. convert a set to a list."
   ]
  },
  {
   "cell_type": "code",
   "execution_count": 45,
   "id": "b631dbdd-8c8e-4159-81ff-80d2a6926062",
   "metadata": {},
   "outputs": [
    {
     "name": "stdout",
     "output_type": "stream",
     "text": [
      "original set: {1, 2, 3, 4, 5, 6, 9}\n",
      "converted list: [1, 2, 3, 4, 5, 6, 9]\n"
     ]
    }
   ],
   "source": [
    "my_set = {3,1,4,1,5,9,2,6,5}\n",
    "my_list = list(my_set)\n",
    "print(\"original set:\", my_set)\n",
    "print(\"converted list:\", my_list)"
   ]
  },
  {
   "cell_type": "markdown",
   "id": "6cb4fb34-ab04-4a67-a5ae-112481ad05c5",
   "metadata": {},
   "source": [
    "     16. remove a random element from a set."
   ]
  },
  {
   "cell_type": "code",
   "execution_count": 52,
   "id": "799c71e3-1759-4bb5-8e96-932586b4c394",
   "metadata": {},
   "outputs": [
    {
     "name": "stdout",
     "output_type": "stream",
     "text": [
      "original set: {1, 2, 3, 4, 5}\n",
      "updated set after removing 3 : {1, 2, 4, 5}\n"
     ]
    }
   ],
   "source": [
    "import random\n",
    "\n",
    "my_set = {1,2,3,4,5}\n",
    "\n",
    "print(\"original set:\", my_set)\n",
    "\n",
    "random_element = random.choice(list(my_set))\n",
    "\n",
    "my_set.remove(random_element)\n",
    "\n",
    "print(\"updated set after removing\", random_element, \":\", my_set)"
   ]
  },
  {
   "cell_type": "markdown",
   "id": "1669e9ff-a8fd-423f-a344-3b1c9b30f6e5",
   "metadata": {},
   "source": [
    "    17. pop an element from a set."
   ]
  },
  {
   "cell_type": "code",
   "execution_count": 55,
   "id": "a9216d40-feeb-4bbe-bd0b-f547945ed943",
   "metadata": {},
   "outputs": [
    {
     "name": "stdout",
     "output_type": "stream",
     "text": [
      "original set: {1, 2, 3, 4, 5}\n",
      "popped element: 1\n",
      "set after popping: {2, 3, 4, 5}\n"
     ]
    }
   ],
   "source": [
    "my_set = {1,2,3,4,5}\n",
    "print(\"original set:\", my_set)\n",
    "popped_element = my_set.pop()\n",
    "print(\"popped element:\", popped_element)\n",
    "print(\"set after popping:\", my_set)"
   ]
  },
  {
   "cell_type": "markdown",
   "id": "b8c2620d-8559-48ff-a11b-7fd8cb2a1caf",
   "metadata": {},
   "source": [
    "      18. check if two set have no elements in common."
   ]
  },
  {
   "cell_type": "code",
   "execution_count": 2,
   "id": "856e9a22-3a6b-42d1-8fbb-c07f69b117c4",
   "metadata": {},
   "outputs": [
    {
     "name": "stdout",
     "output_type": "stream",
     "text": [
      "the two sets have no elements in common.\n"
     ]
    }
   ],
   "source": [
    "set1 = {1,2,3,4,}\n",
    "set2 = {5,6,7,8,}\n",
    "common_elements = set1.intersection(set2)\n",
    "if not common_elements:\n",
    "    print(\"the two sets have no elements in common.\")\n",
    "else:\n",
    "    print(\"the two sets have common elements:\", common_elements)"
   ]
  },
  {
   "cell_type": "markdown",
   "id": "cb822bba-e3c2-4d60-8883-966e3b1d1988",
   "metadata": {},
   "source": [
    "     19. find the symmetric difference between two sets."
   ]
  },
  {
   "cell_type": "code",
   "execution_count": 6,
   "id": "26fb08eb-f0b4-4d59-873f-70ad5b2df5d2",
   "metadata": {},
   "outputs": [
    {
     "name": "stdout",
     "output_type": "stream",
     "text": [
      "symmetric difference: {1, 2, 3, 6, 7, 8}\n"
     ]
    }
   ],
   "source": [
    "set1 = {1,2,3,4,5}\n",
    "set2 = {4,5,6,7,8}\n",
    "\n",
    "symmetric_difference = set1 ^ set2\n",
    "\n",
    "print(\"symmetric difference:\", symmetric_difference)"
   ]
  },
  {
   "cell_type": "markdown",
   "id": "15b7a989-592c-49ad-a60d-204d900048ff",
   "metadata": {},
   "source": [
    "    20. update a set with elements from another set."
   ]
  },
  {
   "cell_type": "code",
   "execution_count": 7,
   "id": "64b35486-ab4d-4b7e-b62e-20d1a5fcbcc3",
   "metadata": {},
   "outputs": [
    {
     "name": "stdout",
     "output_type": "stream",
     "text": [
      "set1: {1, 2, 3}\n",
      "set2: {3, 4, 5}\n",
      "updated set1: {1, 2, 3, 4, 5}\n"
     ]
    }
   ],
   "source": [
    "set1 = {1,2,3}\n",
    "print(\"set1:\", set1)\n",
    "\n",
    "set2 = {3,4,5}\n",
    "print(\"set2:\", set2)\n",
    "set1.update(set2)\n",
    "\n",
    "print(\"updated set1:\", set1)"
   ]
  },
  {
   "cell_type": "markdown",
   "id": "d5471077-b668-4631-b3a8-688a6be33d90",
   "metadata": {},
   "source": [
    "      21. create a set of the first 5 prime numbers. "
   ]
  },
  {
   "cell_type": "code",
   "execution_count": 3,
   "id": "766f29a4-94f6-4a84-802e-f2c9d1c8b09c",
   "metadata": {},
   "outputs": [
    {
     "name": "stdout",
     "output_type": "stream",
     "text": [
      "set of the first 5 prime numbers: {2, 3, 5, 7, 11}\n"
     ]
    }
   ],
   "source": [
    "def is_prime(num):\n",
    "    if num <= 1:\n",
    "        return False\n",
    "    for i in range(2, int(num ** 0.5) + 1):\n",
    "        if num % i == 0:\n",
    "            return False\n",
    "    return True\n",
    "    \n",
    "prime_set = set()\n",
    "num = 2\n",
    "while len(prime_set) < 5:\n",
    "    if is_prime(num):\n",
    "        prime_set.add(num)\n",
    "        \n",
    "    num += 1\n",
    "        \n",
    "print(\"set of the first 5 prime numbers:\", prime_set)        \n",
    "        \n"
   ]
  },
  {
   "cell_type": "markdown",
   "id": "deb602da-8407-4c61-903d-31478ba8d398",
   "metadata": {},
   "source": [
    "     22. check if two sets are identical."
   ]
  },
  {
   "cell_type": "code",
   "execution_count": 6,
   "id": "75678ee8-db3c-439a-ae82-df3e6f17bd4c",
   "metadata": {},
   "outputs": [
    {
     "name": "stdout",
     "output_type": "stream",
     "text": [
      "the sets are identical.\n"
     ]
    }
   ],
   "source": [
    "set1 = {1,2,3,4,5}\n",
    "set2 = {3,1,5,2,4}\n",
    "\n",
    "if set1 == set2:\n",
    "    print(\"the sets are identical.\")\n",
    "else:\n",
    "    print(\"the sets are not identical.\")"
   ]
  },
  {
   "cell_type": "markdown",
   "id": "9da8a879-a824-4809-836b-ecd6c133569b",
   "metadata": {},
   "source": [
    "    23. create a frozen set."
   ]
  },
  {
   "cell_type": "code",
   "execution_count": 13,
   "id": "9f8a6108-905e-43f7-8d68-4435f330308e",
   "metadata": {},
   "outputs": [
    {
     "name": "stdout",
     "output_type": "stream",
     "text": [
      "frozen set: frozenset({1, 2, 3, 4, 5})\n"
     ]
    }
   ],
   "source": [
    "elements = {1,2,3,4,5}\n",
    "my_frozen_set = frozenset(elements)\n",
    "print(\"frozen set:\", my_frozen_set)"
   ]
  },
  {
   "cell_type": "markdown",
   "id": "cac4ffcb-d5bd-42a7-85fc-64a2c28d0e39",
   "metadata": {},
   "source": [
    "    24. check if a set is disjoint with another set."
   ]
  },
  {
   "cell_type": "code",
   "execution_count": 14,
   "id": "1a14e649-3d68-4649-81e1-e46c6467bb37",
   "metadata": {},
   "outputs": [
    {
     "name": "stdout",
     "output_type": "stream",
     "text": [
      "Are the sets disjoint? True\n"
     ]
    }
   ],
   "source": [
    "set1 = {1,2,3,4}\n",
    "set2 = {5,6,7,8}\n",
    "\n",
    "disjoint_status = set1.isdisjoint(set2)\n",
    "\n",
    "print(\"Are the sets disjoint?\", disjoint_status)"
   ]
  },
  {
   "cell_type": "markdown",
   "id": "13125ed9-3a39-4a1a-8899-aeeb7f4d8874",
   "metadata": {},
   "source": [
    "    25. create a set of squares of numbers from 1 to 5."
   ]
  },
  {
   "cell_type": "code",
   "execution_count": 16,
   "id": "17462cec-9a1a-4a3f-adbb-d220dbcdf82d",
   "metadata": {},
   "outputs": [
    {
     "name": "stdout",
     "output_type": "stream",
     "text": [
      "{1, 4, 9, 16, 25}\n"
     ]
    }
   ],
   "source": [
    "squares_set = set()\n",
    "for num in range(1,6):\n",
    "    squares = num ** 2\n",
    "    squares_set.add(squares)\n",
    "print(squares_set)"
   ]
  },
  {
   "cell_type": "markdown",
   "id": "ee41993c-4cc9-4bb1-bc0b-c3107d3e5bea",
   "metadata": {},
   "source": [
    "     26.filter out all even numbers from a set."
   ]
  },
  {
   "cell_type": "code",
   "execution_count": 17,
   "id": "61e18a2a-a896-4906-8fe1-3505166dbfe7",
   "metadata": {},
   "outputs": [
    {
     "name": "stdout",
     "output_type": "stream",
     "text": [
      "original set: {1, 2, 3, 4, 5}\n",
      "even_numbers_set: {2, 4}\n"
     ]
    }
   ],
   "source": [
    "original_set = {1,2,3,4,5}\n",
    "even_numbers_set = set()\n",
    "for num in original_set:\n",
    "    if num % 2 == 0:\n",
    "        even_numbers_set.add(num)\n",
    "        \n",
    "print(\"original set:\", original_set)\n",
    "print(\"even_numbers_set:\", even_numbers_set)"
   ]
  },
  {
   "cell_type": "markdown",
   "id": "652563de-7910-4743-aee9-716dc15b5ecd",
   "metadata": {},
   "source": [
    "     27. multiply all elements in a set by 2."
   ]
  },
  {
   "cell_type": "code",
   "execution_count": 19,
   "id": "569a8ff3-f100-452f-8126-7107b85843d5",
   "metadata": {},
   "outputs": [
    {
     "name": "stdout",
     "output_type": "stream",
     "text": [
      "original set: {1, 2, 3, 4, 5}\n",
      "multiplied set: {2, 4, 6, 8, 10}\n"
     ]
    }
   ],
   "source": [
    "original_set = {1,2,3,4,5}\n",
    "multiplied_set = set()\n",
    "\n",
    "for num in original_set:\n",
    "    multiplied_num = num * 2\n",
    "    multiplied_set.add(multiplied_num)\n",
    "print(\"original set:\", original_set)\n",
    "print(\"multiplied set:\", multiplied_set)\n"
   ]
  },
  {
   "cell_type": "markdown",
   "id": "cd9c66fe-70c2-4ff3-a532-ed1ee00af98a",
   "metadata": {},
   "source": [
    "     28. create a set of random numbers."
   ]
  },
  {
   "cell_type": "code",
   "execution_count": 29,
   "id": "1b96b864-227c-4711-8659-f67b9f015738",
   "metadata": {},
   "outputs": [
    {
     "name": "stdout",
     "output_type": "stream",
     "text": [
      "Generated set of random numbers: {69, 41, 43, 18, 95}\n"
     ]
    }
   ],
   "source": [
    "import random\n",
    "num_random_numbers = 5\n",
    "\n",
    "random_number_set = set()\n",
    "for _ in range (num_random_numbers):\n",
    "    random_num = random.randint(1,100)\n",
    "    random_number_set.add(random_num)\n",
    "    \n",
    "print(\"Generated set of random numbers:\", random_number_set)     \n"
   ]
  },
  {
   "cell_type": "markdown",
   "id": "c3496cb3-0e4a-4471-bc16-c56515865578",
   "metadata": {},
   "source": [
    "    29. check if a set is empty."
   ]
  },
  {
   "cell_type": "code",
   "execution_count": 30,
   "id": "9c122f75-93c7-4677-8dbf-87bc5ef23250",
   "metadata": {},
   "outputs": [
    {
     "name": "stdout",
     "output_type": "stream",
     "text": [
      "the set is empty.\n"
     ]
    }
   ],
   "source": [
    "my_set = set()\n",
    "if not my_set:\n",
    "    print(\"the set is empty.\")\n",
    "else:\n",
    "    print(\"the set is not empty.\")"
   ]
  },
  {
   "cell_type": "markdown",
   "id": "053ba064-98a8-4469-8ac6-e4b0c059eed4",
   "metadata": {},
   "source": [
    "    30.create a nested set.(hint:use frozenset)"
   ]
  },
  {
   "cell_type": "code",
   "execution_count": 31,
   "id": "12c7f731-ecca-497f-a985-dd578c525fe4",
   "metadata": {},
   "outputs": [
    {
     "name": "stdout",
     "output_type": "stream",
     "text": [
      "nested set: {frozenset({1, 2, 3, 4, 5}), frozenset({6, 7, 8, 9, 10})}\n"
     ]
    }
   ],
   "source": [
    "set1 = {1, 2, 3, 4, 5}\n",
    "set2 = {6, 7, 8, 9, 10}\n",
    "\n",
    "frozen_set1 = frozenset(set1)\n",
    "frozen_set2 = frozenset(set2)\n",
    "\n",
    "nested_set = {frozen_set1, frozen_set2}\n",
    "print(\"nested set:\", nested_set)"
   ]
  },
  {
   "cell_type": "markdown",
   "id": "f3d1bab0-b8ff-4130-941e-031a0fda5735",
   "metadata": {},
   "source": [
    "     31. remove an element from a set using the discard method."
   ]
  },
  {
   "cell_type": "code",
   "execution_count": 33,
   "id": "5879973b-381b-4406-976d-f3d7e06c8744",
   "metadata": {},
   "outputs": [
    {
     "name": "stdout",
     "output_type": "stream",
     "text": [
      "initial set: {1, 2, 3, 4, 5}\n",
      "set after removing 3 , {1, 2, 4, 5}\n"
     ]
    }
   ],
   "source": [
    "my_set = {1,2,3,4,5}\n",
    "print(\"initial set:\", my_set)\n",
    "\n",
    "element_to_remove = 3\n",
    "\n",
    "my_set.discard(element_to_remove)\n",
    "\n",
    "print(\"set after removing\", element_to_remove,\",\", my_set)"
   ]
  },
  {
   "cell_type": "markdown",
   "id": "d0a92242-c82b-42e6-b274-1655197e74a2",
   "metadata": {},
   "source": [
    "    32.  compare two sets."
   ]
  },
  {
   "cell_type": "code",
   "execution_count": 34,
   "id": "2ed20bc9-850f-452c-9d22-8a45fefcfa16",
   "metadata": {},
   "outputs": [
    {
     "name": "stdout",
     "output_type": "stream",
     "text": [
      "Set 1: {1, 2, 3, 4, 5}\n",
      "Set 2: {4, 5, 6, 7, 8}\n",
      "Is set1 a subset of set2? False\n",
      "Is set2 a subset of set1? False\n",
      "Intersection: {4, 5}\n",
      "Union: {1, 2, 3, 4, 5, 6, 7, 8}\n",
      "Elements in set1 but not in set2: {1, 2, 3}\n",
      "Elements in set2 but not in set1: {8, 6, 7}\n"
     ]
    }
   ],
   "source": [
    "set1 = {1, 2, 3, 4, 5}\n",
    "set2 = {4, 5, 6, 7, 8}\n",
    "\n",
    "is_subset = set1.issubset(set2)\n",
    "\n",
    "is_superset = set1.issuperset(set2)\n",
    "\n",
    "intersection = set1.intersection(set2)\n",
    "\n",
    "union = set1.union(set2)\n",
    "\n",
    "difference1 = set1.difference(set2)\n",
    "\n",
    "difference2 = set2.difference(set1)\n",
    "\n",
    "# Step 3: Print the results\n",
    "print(\"Set 1:\", set1)\n",
    "print(\"Set 2:\", set2)\n",
    "print(\"Is set1 a subset of set2?\", is_subset)\n",
    "print(\"Is set2 a subset of set1?\", is_superset)\n",
    "print(\"Intersection:\", intersection)\n",
    "print(\"Union:\", union)\n",
    "print(\"Elements in set1 but not in set2:\", difference1)\n",
    "print(\"Elements in set2 but not in set1:\", difference2)"
   ]
  },
  {
   "cell_type": "markdown",
   "id": "a78a5b12-2292-4873-b9c6-88611d3eca6d",
   "metadata": {},
   "source": [
    "    33.create a set from a string."
   ]
  },
  {
   "cell_type": "code",
   "execution_count": 39,
   "id": "a176fddb-34a8-4ece-9e31-f8dedb9943ba",
   "metadata": {},
   "outputs": [
    {
     "name": "stdout",
     "output_type": "stream",
     "text": [
      "{'e', 'h', 'l', 'o'}\n"
     ]
    }
   ],
   "source": [
    "input_string = \"hello\"\n",
    "\n",
    "char_set = set(input_string)\n",
    "\n",
    "print(char_set)"
   ]
  },
  {
   "cell_type": "markdown",
   "id": "ef23974a-af4b-48d9-b151-a3fea10b0975",
   "metadata": {},
   "source": [
    "    34. convert a set of strings to a set of integers. "
   ]
  },
  {
   "cell_type": "code",
   "execution_count": 40,
   "id": "5c3e2905-4382-4372-91eb-ec3b9e6daa9c",
   "metadata": {},
   "outputs": [
    {
     "name": "stdout",
     "output_type": "stream",
     "text": [
      "original string set: {'123', '789', '456'}\n",
      "converted integer set: {456, 123, 789}\n"
     ]
    }
   ],
   "source": [
    "string_set = {\"123\",\"456\",\"789\"}\n",
    "\n",
    "integer_set = set()\n",
    "\n",
    "for string in string_set:\n",
    "    integer_value = int(string)\n",
    "    integer_set.add(integer_value)\n",
    "print(\"original string set:\", string_set)\n",
    "print(\"converted integer set:\", integer_set)"
   ]
  },
  {
   "cell_type": "markdown",
   "id": "48594109-6b0a-4012-9d4d-0b0b54d33158",
   "metadata": {},
   "source": [
    "      35. convert a set of integers to a set of strings."
   ]
  },
  {
   "cell_type": "code",
   "execution_count": 45,
   "id": "ffe00c98-7c14-4e6d-a1e3-023e154a2e47",
   "metadata": {},
   "outputs": [
    {
     "name": "stdout",
     "output_type": "stream",
     "text": [
      "original integers set: {1, 2, 3, 4, 5}\n",
      "converted strings set: {'4', '1', '3', '2', '5'}\n"
     ]
    }
   ],
   "source": [
    "integers_set = {1,2,3,4,5}\n",
    "strings_set = set()\n",
    "for num in integers_set:\n",
    "    num_str = str(num)\n",
    "    strings_set.add(num_str)\n",
    "    \n",
    "print(\"original integers set:\", integers_set)\n",
    "print(\"converted strings set:\", strings_set)"
   ]
  },
  {
   "cell_type": "markdown",
   "id": "46056c45-f6ba-4663-9d6c-aa3125b92cf2",
   "metadata": {},
   "source": [
    "    36.  create a set from a tuple."
   ]
  },
  {
   "cell_type": "code",
   "execution_count": 47,
   "id": "69f7fe9b-3e21-48a4-b9c2-1054abab11e0",
   "metadata": {},
   "outputs": [
    {
     "name": "stdout",
     "output_type": "stream",
     "text": [
      "{1, 2, 3, 4, 5}\n"
     ]
    }
   ],
   "source": [
    "input_tuple = (1,2,3,2,4,5,1)\n",
    "output_set = set(input_tuple)\n",
    "print(output_set)"
   ]
  },
  {
   "cell_type": "markdown",
   "id": "3968a097-62c3-4a77-9341-d9095a04453e",
   "metadata": {},
   "source": [
    "     37. conver a set to a tuple."
   ]
  },
  {
   "cell_type": "code",
   "execution_count": 50,
   "id": "2d4f8446-e0dd-4fea-b09c-89564b937860",
   "metadata": {},
   "outputs": [
    {
     "name": "stdout",
     "output_type": "stream",
     "text": [
      "original set: {1, 2, 3, 4, 5}\n",
      "converted tuple: (1, 2, 3, 4, 5)\n"
     ]
    }
   ],
   "source": [
    "input_set = {1,2,3,4,5}\n",
    "output_tuple = tuple(input_set)\n",
    "print(\"original set:\", input_set)\n",
    "print(\"converted tuple:\", output_tuple)"
   ]
  },
  {
   "cell_type": "markdown",
   "id": "82f1c88f-99e0-4ba0-bdf7-1506969f9a7d",
   "metadata": {},
   "source": [
    "     38. find the maximum value in a set."
   ]
  },
  {
   "cell_type": "code",
   "execution_count": 55,
   "id": "43d381cb-5089-4e33-adab-d27f623de4eb",
   "metadata": {},
   "outputs": [
    {
     "name": "stdout",
     "output_type": "stream",
     "text": [
      "maximum value: 22\n"
     ]
    }
   ],
   "source": [
    "my_set = {15,7,22,13,8}\n",
    "max_value = None\n",
    "for num in my_set:\n",
    "    if max_value is None or num > max_value:\n",
    "        max_value = num\n",
    "print(\"maximum value:\", max_value)"
   ]
  },
  {
   "cell_type": "markdown",
   "id": "3beccea7-95ee-473f-9234-bd63292c6b19",
   "metadata": {},
   "source": [
    "    39. find the minimum value in a set."
   ]
  },
  {
   "cell_type": "code",
   "execution_count": 56,
   "id": "960fc263-7815-4446-a7d9-c0f24c9f536e",
   "metadata": {},
   "outputs": [
    {
     "name": "stdout",
     "output_type": "stream",
     "text": [
      "minimum value: 4\n"
     ]
    }
   ],
   "source": [
    "my_set = {15,8,23,4,42,11}\n",
    "min_value = None\n",
    "for num in my_set:\n",
    "    if min_value is None or num < min_value:\n",
    "        min_value = num\n",
    "print(\"minimum value:\", min_value)        "
   ]
  },
  {
   "cell_type": "markdown",
   "id": "f6d9320c-fc40-44f0-b0b3-2674a7609867",
   "metadata": {},
   "source": [
    "     40. create a set from user input."
   ]
  },
  {
   "cell_type": "code",
   "execution_count": 59,
   "id": "ebdcb7e5-a023-4ebd-a649-81981daa5dca",
   "metadata": {},
   "outputs": [
    {
     "name": "stdout",
     "output_type": "stream",
     "text": [
      "enter elements for the set(type 'done' to finish):\n"
     ]
    },
    {
     "name": "stdin",
     "output_type": "stream",
     "text": [
      "> ineuron, pwskills, done\n",
      "> done\n"
     ]
    },
    {
     "name": "stdout",
     "output_type": "stream",
     "text": [
      "final set: {'ineuron, pwskills, done'}\n"
     ]
    }
   ],
   "source": [
    "user_set = set()\n",
    "print(\"enter elements for the set(type 'done' to finish):\")\n",
    "while True:\n",
    "    user_input = input(\">\")\n",
    "    if user_input.lower() == 'done':\n",
    "        break\n",
    "    user_set.add(user_input)\n",
    "print(\"final set:\", user_set)"
   ]
  },
  {
   "cell_type": "markdown",
   "id": "ec1aff09-6b8d-4999-bc0b-46dcbcc1b675",
   "metadata": {},
   "source": [
    "     41. check if the intersection of two sets is empty."
   ]
  },
  {
   "cell_type": "code",
   "execution_count": 60,
   "id": "e09ed431-b7ff-4bc5-9f24-1878fdd0f5d6",
   "metadata": {},
   "outputs": [
    {
     "name": "stdout",
     "output_type": "stream",
     "text": [
      "the intersection of the two sets in not empty.\n"
     ]
    }
   ],
   "source": [
    "set1 = {1,2,3,4,5}\n",
    "set2 = {4,5,6,7,8}\n",
    "\n",
    "intersection_result = set1.intersection(set2)\n",
    "if not intersection_result:\n",
    "    print(\"The intersection of the two sets in empty.\")\n",
    "else:\n",
    "    print(\"the intersection of the two sets in not empty.\")\n",
    "    "
   ]
  },
  {
   "cell_type": "markdown",
   "id": "1fb2d580-b0f5-4b73-8f1a-5bc2a72a6ceb",
   "metadata": {},
   "source": [
    "    42. create a set of the first 5 fibonacci numbers."
   ]
  },
  {
   "cell_type": "code",
   "execution_count": 61,
   "id": "c0822049-d894-4793-b414-1dcc84310583",
   "metadata": {},
   "outputs": [
    {
     "name": "stdout",
     "output_type": "stream",
     "text": [
      "set of the print 5 fibonacci numbers: {0, 1, 2, 3, 5}\n"
     ]
    }
   ],
   "source": [
    "fibonacci_set = set()\n",
    "a, b = 0, 1\n",
    "for _ in range (6):\n",
    "    fibonacci_set.add(a)\n",
    "    a, b = b, a + b\n",
    "print(\"set of the print 5 fibonacci numbers:\", fibonacci_set)    "
   ]
  },
  {
   "cell_type": "markdown",
   "id": "622f5295-79d6-4f70-8ad3-5b3947e5e8f7",
   "metadata": {},
   "source": [
    "    43. remove duplicates from a list using sets."
   ]
  },
  {
   "cell_type": "code",
   "execution_count": 62,
   "id": "8b736e8a-2443-4b79-9c14-d51c238ac5a6",
   "metadata": {},
   "outputs": [
    {
     "name": "stdout",
     "output_type": "stream",
     "text": [
      "original list: [2, 4, 6, 8, 4, 10, 6, 12, 14, 8]\n",
      "list with duplicates removed: [2, 4, 6, 8, 10, 12, 14]\n"
     ]
    }
   ],
   "source": [
    "original_list = [2,4,6,8,4,10,6,12,14,8]\n",
    "unique_set = set(original_list)\n",
    "unique_list = list(unique_set)\n",
    "print(\"original list:\", original_list)\n",
    "print(\"list with duplicates removed:\", unique_list)"
   ]
  },
  {
   "cell_type": "markdown",
   "id": "382114b4-a670-4097-b0bf-c07b64aa3e7c",
   "metadata": {},
   "source": [
    "    44. check if two sets have the same elements regardless of their count. "
   ]
  },
  {
   "cell_type": "code",
   "execution_count": 71,
   "id": "fb2ad856-3674-4ffd-8740-a574ef317998",
   "metadata": {},
   "outputs": [
    {
     "name": "stdout",
     "output_type": "stream",
     "text": [
      "the sets have the same elements.\n"
     ]
    }
   ],
   "source": [
    "def have_same_elements(set1, set2):\n",
    "\n",
    "    sorted_list1 = sorted(list(set1))\n",
    "    sorted_list2 = sorted(list(set2))\n",
    "    return sorted_list1 == sorted_list2\n",
    "\n",
    "set1 = {1,2,3,2,1}\n",
    "set2 = {3,1,2}\n",
    "\n",
    "result = have_same_elements (set1, set2)\n",
    "if result:\n",
    "    print(\"the sets have the same elements.\")\n",
    "else:\n",
    "    print(\"the sets do not have the same elements.\")\n"
   ]
  },
  {
   "cell_type": "markdown",
   "id": "b0cbb40f-7e49-43dd-a0ce-e93568585a10",
   "metadata": {},
   "source": [
    "     45.  create a set of the first n power of 2."
   ]
  },
  {
   "cell_type": "code",
   "execution_count": 73,
   "id": "8857594b-9bfa-47b8-b5d9-d9e93b6efcff",
   "metadata": {},
   "outputs": [
    {
     "name": "stdout",
     "output_type": "stream",
     "text": [
      "{1, 2, 4, 8, 16}\n"
     ]
    }
   ],
   "source": [
    "def generate_power_of_2(n):\n",
    "    power_of_2 = set()\n",
    "    for i in range (n):\n",
    "        power = 2 ** i\n",
    "        power_of_2.add(power)\n",
    "    return power_of_2\n",
    "n = 5\n",
    "power_set = generate_power_of_2(n)\n",
    "print(power_set)"
   ]
  },
  {
   "cell_type": "markdown",
   "id": "51b20228-1a64-45e9-8d6a-22019bf7c281",
   "metadata": {},
   "source": [
    "    46.  find the common elements between a set and a list."
   ]
  },
  {
   "cell_type": "code",
   "execution_count": 77,
   "id": "47b988f1-99a6-478c-adc2-d863dc185a77",
   "metadata": {},
   "outputs": [
    {
     "name": "stdout",
     "output_type": "stream",
     "text": [
      "common elements: [7, 9, 12]\n"
     ]
    }
   ],
   "source": [
    "my_set = {3,7,9,12,15}\n",
    "my_list = [7,12,5,9]\n",
    "list_to_set = set(my_list)\n",
    "common_elements = []\n",
    "for element in my_set:\n",
    "    if element in list_to_set:\n",
    "        common_elements.append(element)\n",
    "print(\"common elements:\", common_elements)"
   ]
  },
  {
   "cell_type": "markdown",
   "id": "2117ee08-086f-44a2-892c-4c66fe8b1012",
   "metadata": {},
   "source": [
    "     47. create a set of the first n triangular numbers."
   ]
  },
  {
   "cell_type": "code",
   "execution_count": 79,
   "id": "fdb2c1e3-9d9f-4225-b318-3138e215e554",
   "metadata": {},
   "outputs": [
    {
     "name": "stdin",
     "output_type": "stream",
     "text": [
      "Enter the value of n:  10\n"
     ]
    },
    {
     "name": "stdout",
     "output_type": "stream",
     "text": [
      "The set of the first 10 triangular numbers is: {1, 3, 36, 6, 10, 45, 15, 21, 55, 28}\n"
     ]
    }
   ],
   "source": [
    "def generate_triangular_numbers(n):\n",
    "    triangular_numbers = set()  \n",
    "    for i in range(1, n + 1):\n",
    "        triangular_number = i * (i + 1) // 2  \n",
    "        triangular_numbers.add(triangular_number)  \n",
    "    return triangular_numbers\n",
    "\n",
    "n = int(input(\"Enter the value of n: \"))\n",
    "\n",
    "triangular_set = generate_triangular_numbers(n)\n",
    "\n",
    "print(f\"The set of the first {n} triangular numbers is:\", triangular_set)"
   ]
  },
  {
   "cell_type": "markdown",
   "id": "5cd76898-4f76-4d76-afc3-124b2428125a",
   "metadata": {},
   "source": [
    "      48. check if a set containg another set as a subset."
   ]
  },
  {
   "cell_type": "code",
   "execution_count": 81,
   "id": "760f549f-b1ef-4d37-9f69-ae5252a98a59",
   "metadata": {},
   "outputs": [
    {
     "name": "stdout",
     "output_type": "stream",
     "text": [
      "set2 is a subset of set1\n"
     ]
    }
   ],
   "source": [
    "set1 = {1,2,3,4,5}\n",
    "set2 = {3,4}\n",
    "is_subset = set2.issubset(set1)\n",
    "if is_subset:\n",
    "    print(\"set2 is a subset of set1\")\n",
    "else:\n",
    "    print(\"set2 is not a subset of set1\")"
   ]
  },
  {
   "cell_type": "markdown",
   "id": "2a8aab97-eed3-4fea-a61a-5a0b40e13bbd",
   "metadata": {},
   "source": [
    "    49. create a set of alternating is and 0s of length n."
   ]
  },
  {
   "cell_type": "code",
   "execution_count": 84,
   "id": "793a6e51-3c35-49d8-90be-26e964706a71",
   "metadata": {},
   "outputs": [
    {
     "name": "stdout",
     "output_type": "stream",
     "text": [
      "{0, 1}\n"
     ]
    }
   ],
   "source": [
    "def create_alternating_set(n):\n",
    "    \n",
    "    alternating_set = set()\n",
    "    \n",
    "\n",
    "    for i in range(n):\n",
    "        \n",
    "        if i % 2 == 0:\n",
    "            alternating_set.add(1)  \n",
    "        else:\n",
    "            alternating_set.add(0) \n",
    "    return alternating_set\n",
    "\n",
    "\n",
    "length_n = 10\n",
    "\n",
    "result = create_alternating_set(length_n)\n",
    "\n",
    "print(result)"
   ]
  },
  {
   "cell_type": "markdown",
   "id": "5c0dcf0e-3d91-4506-983c-48f2a90dfdbc",
   "metadata": {},
   "source": [
    "     50.  merge multiple sets into one."
   ]
  },
  {
   "cell_type": "code",
   "execution_count": 88,
   "id": "092c92fe-f060-45b8-97dc-7c1a72b6f6d9",
   "metadata": {},
   "outputs": [
    {
     "name": "stdout",
     "output_type": "stream",
     "text": [
      "merged set: {1, 2, 3, 4, 5, 6, 7}\n"
     ]
    }
   ],
   "source": [
    "set1 = {1,2,3}\n",
    "set2 = {3,4,5}\n",
    "set3 = {5,6,7}\n",
    "merged_set = set1. union(set2,set3)\n",
    "print(\"merged set:\", merged_set)"
   ]
  },
  {
   "cell_type": "code",
   "execution_count": null,
   "id": "72ad6269-5c92-40c0-a715-57c7b292f812",
   "metadata": {},
   "outputs": [],
   "source": []
  }
 ],
 "metadata": {
  "kernelspec": {
   "display_name": "Python 3 (ipykernel)",
   "language": "python",
   "name": "python3"
  },
  "language_info": {
   "codemirror_mode": {
    "name": "ipython",
    "version": 3
   },
   "file_extension": ".py",
   "mimetype": "text/x-python",
   "name": "python",
   "nbconvert_exporter": "python",
   "pygments_lexer": "ipython3",
   "version": "3.10.8"
  }
 },
 "nbformat": 4,
 "nbformat_minor": 5
}
